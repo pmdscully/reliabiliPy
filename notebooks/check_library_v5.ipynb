{
 "cells": [
  {
   "cell_type": "markdown",
   "id": "5c15af83-5e89-444b-94cc-ce661d85d756",
   "metadata": {
    "tags": []
   },
   "source": [
    "\n",
    "# References\n",
    "* Flora, David B. \"Your coefficient alpha is probably wrong, but which coefficient omega is right? A tutorial on using R to obtain better reliability estimates.\" Advances in Methods and Practices in Psychological Science 3.4 (2020): 484-501. https://journals.sagepub.com/doi/pdf/10.1177/2515245920951747 \n",
    "* Revelle, Willian. Manuscrip. 2021. An introduction to psychometric theory with applications in R.\n",
    "https://personality-project.org/r/book/Chapter7.pdf \n",
    "* Revelle, William R. \"psych: Procedures for personality and psychological research.\" (2017). \n",
    "    * Omega Implementation in R. https://github.com/cran/psych/blob/master/R/omega.R\n",
    "    * Schmid-Leiman in R. https://github.com/cran/psych/blob/master/R/schmid.R \n",
    "* Starkweather, Jon (2013). Hierarchical Factor Analysis. https://it.unt.edu/sites/default/files/hierfa_l_jds_apr2013.pdf\n",
    "* Vallat, R. (2018). Pingouin: statistics in Python. Journal of Open Source Software, 3(31), 1026, https://doi.org/10.21105/joss.01026\n",
    "* Wolff, Hans-Georg, and Katja Preising. \"Exploring item and higher order factor structure with the Schmid-Leiman solution: Syntax codes for SPSS and SAS.\" Behavior Research Methods 37.1 (2005): 48-58.\n",
    "\n",
    "# Acknowledgement\n",
    "* real-statistics.com\n",
    "* Factor Analyzer. Python library. https://github.com/EducationalTestingService/factor_analyzer \n",
    "\n"
   ]
  },
  {
   "cell_type": "code",
   "execution_count": 1,
   "id": "b00e6617-e906-4e01-9380-43684ab892d4",
   "metadata": {},
   "outputs": [],
   "source": [
    "import pandas as pd\n",
    "from factor_analyzer import FactorAnalyzer\n",
    "import os\n",
    "import numpy as np"
   ]
  },
  {
   "cell_type": "code",
   "execution_count": 2,
   "id": "7a3b5fc3-95fb-41cb-8acc-2f711dd026cc",
   "metadata": {},
   "outputs": [],
   "source": [
    "rotation='oblimin'\n",
    "method='minres'"
   ]
  },
  {
   "cell_type": "code",
   "execution_count": 3,
   "id": "8b9bbbfa-d0b9-4f88-8b72-6c81bc1d8567",
   "metadata": {},
   "outputs": [
    {
     "data": {
      "text/plain": [
       "'/Users/rafaelvalerofernandez/Documents/repositories/factor_analyzer/notebooks'"
      ]
     },
     "execution_count": 3,
     "metadata": {},
     "output_type": "execute_result"
    }
   ],
   "source": [
    "os.getcwd()"
   ]
  },
  {
   "cell_type": "code",
   "execution_count": 4,
   "id": "5d147657-2dad-4ce0-8085-9b61cef34df1",
   "metadata": {},
   "outputs": [
    {
     "data": {
      "text/html": [
       "<div>\n",
       "<style scoped>\n",
       "    .dataframe tbody tr th:only-of-type {\n",
       "        vertical-align: middle;\n",
       "    }\n",
       "\n",
       "    .dataframe tbody tr th {\n",
       "        vertical-align: top;\n",
       "    }\n",
       "\n",
       "    .dataframe thead th {\n",
       "        text-align: right;\n",
       "    }\n",
       "</style>\n",
       "<table border=\"1\" class=\"dataframe\">\n",
       "  <thead>\n",
       "    <tr style=\"text-align: right;\">\n",
       "      <th></th>\n",
       "      <th>0</th>\n",
       "      <th>1</th>\n",
       "      <th>2</th>\n",
       "      <th>3</th>\n",
       "      <th>4</th>\n",
       "      <th>5</th>\n",
       "      <th>6</th>\n",
       "      <th>7</th>\n",
       "      <th>8</th>\n",
       "    </tr>\n",
       "  </thead>\n",
       "  <tbody>\n",
       "    <tr>\n",
       "      <th>0</th>\n",
       "      <td>1.000</td>\n",
       "      <td>0.483</td>\n",
       "      <td>0.340</td>\n",
       "      <td>0.180</td>\n",
       "      <td>0.277</td>\n",
       "      <td>0.257</td>\n",
       "      <td>-0.074</td>\n",
       "      <td>0.212</td>\n",
       "      <td>0.226</td>\n",
       "    </tr>\n",
       "    <tr>\n",
       "      <th>1</th>\n",
       "      <td>0.483</td>\n",
       "      <td>1.000</td>\n",
       "      <td>0.624</td>\n",
       "      <td>0.260</td>\n",
       "      <td>0.433</td>\n",
       "      <td>0.301</td>\n",
       "      <td>-0.028</td>\n",
       "      <td>0.362</td>\n",
       "      <td>0.236</td>\n",
       "    </tr>\n",
       "    <tr>\n",
       "      <th>2</th>\n",
       "      <td>0.340</td>\n",
       "      <td>0.624</td>\n",
       "      <td>1.000</td>\n",
       "      <td>0.240</td>\n",
       "      <td>0.376</td>\n",
       "      <td>0.244</td>\n",
       "      <td>0.233</td>\n",
       "      <td>0.577</td>\n",
       "      <td>0.352</td>\n",
       "    </tr>\n",
       "    <tr>\n",
       "      <th>3</th>\n",
       "      <td>0.180</td>\n",
       "      <td>0.260</td>\n",
       "      <td>0.240</td>\n",
       "      <td>1.000</td>\n",
       "      <td>0.534</td>\n",
       "      <td>0.654</td>\n",
       "      <td>0.165</td>\n",
       "      <td>0.411</td>\n",
       "      <td>0.306</td>\n",
       "    </tr>\n",
       "    <tr>\n",
       "      <th>4</th>\n",
       "      <td>0.277</td>\n",
       "      <td>0.433</td>\n",
       "      <td>0.376</td>\n",
       "      <td>0.534</td>\n",
       "      <td>1.000</td>\n",
       "      <td>0.609</td>\n",
       "      <td>0.041</td>\n",
       "      <td>0.300</td>\n",
       "      <td>0.239</td>\n",
       "    </tr>\n",
       "    <tr>\n",
       "      <th>5</th>\n",
       "      <td>0.257</td>\n",
       "      <td>0.301</td>\n",
       "      <td>0.244</td>\n",
       "      <td>0.654</td>\n",
       "      <td>0.609</td>\n",
       "      <td>1.000</td>\n",
       "      <td>0.133</td>\n",
       "      <td>0.399</td>\n",
       "      <td>0.320</td>\n",
       "    </tr>\n",
       "    <tr>\n",
       "      <th>6</th>\n",
       "      <td>-0.074</td>\n",
       "      <td>-0.028</td>\n",
       "      <td>0.233</td>\n",
       "      <td>0.165</td>\n",
       "      <td>0.041</td>\n",
       "      <td>0.133</td>\n",
       "      <td>1.000</td>\n",
       "      <td>0.346</td>\n",
       "      <td>0.206</td>\n",
       "    </tr>\n",
       "    <tr>\n",
       "      <th>7</th>\n",
       "      <td>0.212</td>\n",
       "      <td>0.362</td>\n",
       "      <td>0.577</td>\n",
       "      <td>0.411</td>\n",
       "      <td>0.300</td>\n",
       "      <td>0.399</td>\n",
       "      <td>0.346</td>\n",
       "      <td>1.000</td>\n",
       "      <td>0.457</td>\n",
       "    </tr>\n",
       "    <tr>\n",
       "      <th>8</th>\n",
       "      <td>0.226</td>\n",
       "      <td>0.236</td>\n",
       "      <td>0.352</td>\n",
       "      <td>0.306</td>\n",
       "      <td>0.239</td>\n",
       "      <td>0.320</td>\n",
       "      <td>0.206</td>\n",
       "      <td>0.457</td>\n",
       "      <td>1.000</td>\n",
       "    </tr>\n",
       "  </tbody>\n",
       "</table>\n",
       "</div>"
      ],
      "text/plain": [
       "       0      1      2      3      4      5      6      7      8\n",
       "0  1.000  0.483  0.340  0.180  0.277  0.257 -0.074  0.212  0.226\n",
       "1  0.483  1.000  0.624  0.260  0.433  0.301 -0.028  0.362  0.236\n",
       "2  0.340  0.624  1.000  0.240  0.376  0.244  0.233  0.577  0.352\n",
       "3  0.180  0.260  0.240  1.000  0.534  0.654  0.165  0.411  0.306\n",
       "4  0.277  0.433  0.376  0.534  1.000  0.609  0.041  0.300  0.239\n",
       "5  0.257  0.301  0.244  0.654  0.609  1.000  0.133  0.399  0.320\n",
       "6 -0.074 -0.028  0.233  0.165  0.041  0.133  1.000  0.346  0.206\n",
       "7  0.212  0.362  0.577  0.411  0.300  0.399  0.346  1.000  0.457\n",
       "8  0.226  0.236  0.352  0.306  0.239  0.320  0.206  0.457  1.000"
      ]
     },
     "execution_count": 4,
     "metadata": {},
     "output_type": "execute_result"
    }
   ],
   "source": [
    "df_features  = pd.DataFrame(np.matrix([[1.   , 0.483, 0.34 , 0.18 , 0.277, 0.257, -0.074, 0.212, 0.226],\n",
    "        [0.483, 1.   , 0.624, 0.26 , 0.433, 0.301, -0.028, 0.362, 0.236],\n",
    "        [0.34 , 0.624, 1.   , 0.24 , 0.376, 0.244, 0.233, 0.577, 0.352],\n",
    "        [0.18 , 0.26 , 0.24 , 1.   , 0.534, 0.654, 0.165, 0.411, 0.306],\n",
    "        [0.277, 0.433, 0.376, 0.534, 1.   , 0.609, 0.041, 0.3  , 0.239],\n",
    "        [0.257, 0.301, 0.244, 0.654, 0.609, 1.   , 0.133, 0.399, 0.32 ],\n",
    "        [-0.074, -0.028, 0.233, 0.165, 0.041, 0.133, 1.   , 0.346, 0.206],\n",
    "        [0.212, 0.362, 0.577, 0.411, 0.3  , 0.399, 0.346, 1.   , 0.457],\n",
    "        [0.226, 0.236, 0.352, 0.306, 0.239, 0.32 , 0.206, 0.457, 1.   ]]))\n",
    "\n",
    "df_features"
   ]
  },
  {
   "cell_type": "code",
   "execution_count": 5,
   "id": "d010a5d3-474f-4514-8e2a-8841d53c15f7",
   "metadata": {},
   "outputs": [],
   "source": [
    "#df_features.to_csv(\"schmid_leiman_solution.csv\",index=False)"
   ]
  },
  {
   "cell_type": "code",
   "execution_count": 6,
   "id": "a4a02e80-e3ad-4835-8abb-502473aea032",
   "metadata": {},
   "outputs": [
    {
     "data": {
      "text/plain": [
       "FactorAnalyzer(is_corr_matrix=True, rotation='oblimin', rotation_kwargs={})"
      ]
     },
     "execution_count": 6,
     "metadata": {},
     "output_type": "execute_result"
    }
   ],
   "source": [
    "fa = FactorAnalyzer(rotation=rotation,\n",
    "                    method=method,\n",
    "                   is_corr_matrix=True)\n",
    "fa.fit(df_features)"
   ]
  },
  {
   "cell_type": "code",
   "execution_count": 7,
   "id": "6f1a1d0d-29fc-4137-b8c9-6359fb4b32cf",
   "metadata": {},
   "outputs": [
    {
     "data": {
      "text/plain": [
       "array([[ 0.1221234 ,  0.51710072, -0.06385875],\n",
       "       [ 0.05912014,  0.86167702, -0.00965243],\n",
       "       [-0.07628023,  0.55579955,  0.49376679],\n",
       "       [ 0.74855607, -0.07036534,  0.11550148],\n",
       "       [ 0.63230366,  0.26470386, -0.0773999 ],\n",
       "       [ 0.87095513, -0.01819603,  0.01051326],\n",
       "       [ 0.01819876, -0.25205621,  0.56757538],\n",
       "       [ 0.1561189 ,  0.08505298,  0.7148967 ],\n",
       "       [ 0.18787657,  0.07410765,  0.39701363]])"
      ]
     },
     "execution_count": 7,
     "metadata": {},
     "output_type": "execute_result"
    }
   ],
   "source": [
    "fa.loadings_"
   ]
  },
  {
   "cell_type": "code",
   "execution_count": 8,
   "id": "8cfa57dc-cee7-4e57-986d-c00ff86bd2b6",
   "metadata": {},
   "outputs": [
    {
     "data": {
      "text/html": [
       "<div>\n",
       "<style scoped>\n",
       "    .dataframe tbody tr th:only-of-type {\n",
       "        vertical-align: middle;\n",
       "    }\n",
       "\n",
       "    .dataframe tbody tr th {\n",
       "        vertical-align: top;\n",
       "    }\n",
       "\n",
       "    .dataframe thead th {\n",
       "        text-align: right;\n",
       "    }\n",
       "</style>\n",
       "<table border=\"1\" class=\"dataframe\">\n",
       "  <thead>\n",
       "    <tr style=\"text-align: right;\">\n",
       "      <th></th>\n",
       "      <th>0</th>\n",
       "      <th>1</th>\n",
       "      <th>2</th>\n",
       "    </tr>\n",
       "  </thead>\n",
       "  <tbody>\n",
       "    <tr>\n",
       "      <th>0</th>\n",
       "      <td>0.122123</td>\n",
       "      <td>0.517101</td>\n",
       "      <td>-0.063859</td>\n",
       "    </tr>\n",
       "    <tr>\n",
       "      <th>1</th>\n",
       "      <td>0.059120</td>\n",
       "      <td>0.861677</td>\n",
       "      <td>-0.009652</td>\n",
       "    </tr>\n",
       "    <tr>\n",
       "      <th>2</th>\n",
       "      <td>-0.076280</td>\n",
       "      <td>0.555800</td>\n",
       "      <td>0.493767</td>\n",
       "    </tr>\n",
       "    <tr>\n",
       "      <th>3</th>\n",
       "      <td>0.748556</td>\n",
       "      <td>-0.070365</td>\n",
       "      <td>0.115501</td>\n",
       "    </tr>\n",
       "    <tr>\n",
       "      <th>4</th>\n",
       "      <td>0.632304</td>\n",
       "      <td>0.264704</td>\n",
       "      <td>-0.077400</td>\n",
       "    </tr>\n",
       "    <tr>\n",
       "      <th>5</th>\n",
       "      <td>0.870955</td>\n",
       "      <td>-0.018196</td>\n",
       "      <td>0.010513</td>\n",
       "    </tr>\n",
       "    <tr>\n",
       "      <th>6</th>\n",
       "      <td>0.018199</td>\n",
       "      <td>-0.252056</td>\n",
       "      <td>0.567575</td>\n",
       "    </tr>\n",
       "    <tr>\n",
       "      <th>7</th>\n",
       "      <td>0.156119</td>\n",
       "      <td>0.085053</td>\n",
       "      <td>0.714897</td>\n",
       "    </tr>\n",
       "    <tr>\n",
       "      <th>8</th>\n",
       "      <td>0.187877</td>\n",
       "      <td>0.074108</td>\n",
       "      <td>0.397014</td>\n",
       "    </tr>\n",
       "  </tbody>\n",
       "</table>\n",
       "</div>"
      ],
      "text/plain": [
       "          0         1         2\n",
       "0  0.122123  0.517101 -0.063859\n",
       "1  0.059120  0.861677 -0.009652\n",
       "2 -0.076280  0.555800  0.493767\n",
       "3  0.748556 -0.070365  0.115501\n",
       "4  0.632304  0.264704 -0.077400\n",
       "5  0.870955 -0.018196  0.010513\n",
       "6  0.018199 -0.252056  0.567575\n",
       "7  0.156119  0.085053  0.714897\n",
       "8  0.187877  0.074108  0.397014"
      ]
     },
     "execution_count": 8,
     "metadata": {},
     "output_type": "execute_result"
    }
   ],
   "source": [
    "pd.DataFrame(fa.loadings_)"
   ]
  },
  {
   "cell_type": "code",
   "execution_count": 9,
   "id": "5c2862cc-dae0-4c3f-bd4e-f78599455f37",
   "metadata": {},
   "outputs": [
    {
     "data": {
      "text/plain": [
       "array([2.19326949, 1.81502064, 1.60688186])"
      ]
     },
     "execution_count": 9,
     "metadata": {},
     "output_type": "execute_result"
    }
   ],
   "source": [
    "np.dot(fa.loadings_.T,fa.loadings_).sum(axis = 1)"
   ]
  },
  {
   "cell_type": "code",
   "execution_count": 10,
   "id": "a55fb825-10b4-4ccc-a008-5d245a391422",
   "metadata": {},
   "outputs": [
    {
     "data": {
      "text/plain": [
       "(1.8596491228070178, 1.8854166666666667, 2.008602325)"
      ]
     },
     "execution_count": 10,
     "metadata": {},
     "output_type": "execute_result"
    }
   ],
   "source": [
    "2.12/1.14,1.81/0.96,1.60688186/0.8\n"
   ]
  },
  {
   "cell_type": "code",
   "execution_count": 11,
   "id": "52a7e7cf-d0b4-45c2-99d4-7353fe8937f1",
   "metadata": {},
   "outputs": [
    {
     "data": {
      "text/plain": [
       "1.1116610919900929"
      ]
     },
     "execution_count": 11,
     "metadata": {},
     "output_type": "execute_result"
    }
   ],
   "source": [
    "2.12/3.63686274**0.5"
   ]
  },
  {
   "cell_type": "code",
   "execution_count": 12,
   "id": "901236d1-8aa4-42aa-a9e7-34da89e33558",
   "metadata": {},
   "outputs": [
    {
     "data": {
      "text/html": [
       "<div>\n",
       "<style scoped>\n",
       "    .dataframe tbody tr th:only-of-type {\n",
       "        vertical-align: middle;\n",
       "    }\n",
       "\n",
       "    .dataframe tbody tr th {\n",
       "        vertical-align: top;\n",
       "    }\n",
       "\n",
       "    .dataframe thead th {\n",
       "        text-align: right;\n",
       "    }\n",
       "</style>\n",
       "<table border=\"1\" class=\"dataframe\">\n",
       "  <thead>\n",
       "    <tr style=\"text-align: right;\">\n",
       "      <th></th>\n",
       "      <th>0</th>\n",
       "      <th>1</th>\n",
       "      <th>2</th>\n",
       "    </tr>\n",
       "  </thead>\n",
       "  <tbody>\n",
       "    <tr>\n",
       "      <th>0</th>\n",
       "      <td>0.232896</td>\n",
       "      <td>0.986140</td>\n",
       "      <td>-0.121782</td>\n",
       "    </tr>\n",
       "    <tr>\n",
       "      <th>1</th>\n",
       "      <td>0.067901</td>\n",
       "      <td>0.989655</td>\n",
       "      <td>-0.011086</td>\n",
       "    </tr>\n",
       "    <tr>\n",
       "      <th>2</th>\n",
       "      <td>-0.084792</td>\n",
       "      <td>0.617820</td>\n",
       "      <td>0.548865</td>\n",
       "    </tr>\n",
       "    <tr>\n",
       "      <th>3</th>\n",
       "      <td>0.646305</td>\n",
       "      <td>-0.060754</td>\n",
       "      <td>0.099724</td>\n",
       "    </tr>\n",
       "    <tr>\n",
       "      <th>4</th>\n",
       "      <td>0.497866</td>\n",
       "      <td>0.208424</td>\n",
       "      <td>-0.060943</td>\n",
       "    </tr>\n",
       "    <tr>\n",
       "      <th>5</th>\n",
       "      <td>0.606866</td>\n",
       "      <td>-0.012679</td>\n",
       "      <td>0.007325</td>\n",
       "    </tr>\n",
       "    <tr>\n",
       "      <th>6</th>\n",
       "      <td>0.011089</td>\n",
       "      <td>-0.153578</td>\n",
       "      <td>0.345825</td>\n",
       "    </tr>\n",
       "    <tr>\n",
       "      <th>7</th>\n",
       "      <td>0.088745</td>\n",
       "      <td>0.048348</td>\n",
       "      <td>0.406380</td>\n",
       "    </tr>\n",
       "    <tr>\n",
       "      <th>8</th>\n",
       "      <td>0.096365</td>\n",
       "      <td>0.038011</td>\n",
       "      <td>0.203635</td>\n",
       "    </tr>\n",
       "  </tbody>\n",
       "</table>\n",
       "</div>"
      ],
      "text/plain": [
       "          0         1         2\n",
       "0  0.232896  0.986140 -0.121782\n",
       "1  0.067901  0.989655 -0.011086\n",
       "2 -0.084792  0.617820  0.548865\n",
       "3  0.646305 -0.060754  0.099724\n",
       "4  0.497866  0.208424 -0.060943\n",
       "5  0.606866 -0.012679  0.007325\n",
       "6  0.011089 -0.153578  0.345825\n",
       "7  0.088745  0.048348  0.406380\n",
       "8  0.096365  0.038011  0.203635"
      ]
     },
     "execution_count": 12,
     "metadata": {},
     "output_type": "execute_result"
    }
   ],
   "source": [
    "(pd.DataFrame(fa.loadings_).T*fa.get_eigenvalues()[0]**0.5).T"
   ]
  },
  {
   "cell_type": "code",
   "execution_count": 13,
   "id": "ec3b8a74-bc49-47b5-8371-3ba8a4bf1bb2",
   "metadata": {},
   "outputs": [
    {
     "data": {
      "text/plain": [
       "array([0.28638522, 0.74607564, 0.55853746, 0.57862807, 0.4758668 ,\n",
       "       0.75900446, 0.38600534, 0.54268441, 0.19840938])"
      ]
     },
     "execution_count": 13,
     "metadata": {},
     "output_type": "execute_result"
    }
   ],
   "source": [
    "fa.get_communalities()"
   ]
  },
  {
   "cell_type": "code",
   "execution_count": 14,
   "id": "8e12e20d-05a3-4b7f-a2f8-85e2173d1e67",
   "metadata": {},
   "outputs": [
    {
     "data": {
      "text/plain": [
       "(array([3.63686274, 1.31910384, 1.2356267 , 0.74546277, 0.61997442,\n",
       "        0.48550516, 0.37124956, 0.32313009, 0.26308472]),\n",
       " array([ 3.18991791,  0.87955869,  0.73699158,  0.08767277,  0.01897435,\n",
       "        -0.02341487, -0.04864182, -0.13957934, -0.16988251]))"
      ]
     },
     "execution_count": 14,
     "metadata": {},
     "output_type": "execute_result"
    }
   ],
   "source": [
    "fa.get_eigenvalues()"
   ]
  },
  {
   "cell_type": "code",
   "execution_count": 15,
   "id": "6f677e32-cbb6-42a8-b8e1-3a0af2509d71",
   "metadata": {},
   "outputs": [
    {
     "data": {
      "text/plain": [
       "array([[1.        , 0.35742939, 0.36867244],\n",
       "       [0.35742939, 1.        , 0.35593183],\n",
       "       [0.36867244, 0.35593183, 1.        ]])"
      ]
     },
     "execution_count": 15,
     "metadata": {},
     "output_type": "execute_result"
    }
   ],
   "source": [
    "fa.phi_"
   ]
  },
  {
   "cell_type": "code",
   "execution_count": 16,
   "id": "01b57481-5e33-4a5a-82e1-64c1384a1f7c",
   "metadata": {},
   "outputs": [
    {
     "data": {
      "text/plain": [
       "array([0.71361478, 0.25392436, 0.44146254, 0.42137193, 0.5241332 ,\n",
       "       0.24099554, 0.61399466, 0.45731559, 0.80159062])"
      ]
     },
     "execution_count": 16,
     "metadata": {},
     "output_type": "execute_result"
    }
   ],
   "source": [
    "fa.get_uniquenesses()"
   ]
  },
  {
   "cell_type": "code",
   "execution_count": 17,
   "id": "1199dca7-a4fd-462c-9e64-2eb83d242a44",
   "metadata": {},
   "outputs": [
    {
     "data": {
      "text/plain": [
       "(array([1.80293685, 1.47040238, 1.25825755]),\n",
       " array([0.20032632, 0.16337804, 0.13980639]),\n",
       " array([0.20032632, 0.36370436, 0.50351075]))"
      ]
     },
     "execution_count": 17,
     "metadata": {},
     "output_type": "execute_result"
    }
   ],
   "source": [
    "fa.get_factor_variance()"
   ]
  },
  {
   "cell_type": "code",
   "execution_count": 18,
   "id": "3104e603-102b-4fbe-8512-9ecf40c50d87",
   "metadata": {},
   "outputs": [
    {
     "data": {
      "text/plain": [
       "0.5035107532217329"
      ]
     },
     "execution_count": 18,
     "metadata": {},
     "output_type": "execute_result"
    }
   ],
   "source": [
    "fa.get_factor_variance()[1].sum()"
   ]
  },
  {
   "cell_type": "code",
   "execution_count": 19,
   "id": "d9c1f3ea-a259-4667-86f1-3ce2c6b206a2",
   "metadata": {},
   "outputs": [
    {
     "data": {
      "text/plain": [
       "FactorAnalyzer(is_corr_matrix=True, n_factors=1, rotation=None,\n",
       "               rotation_kwargs={})"
      ]
     },
     "execution_count": 19,
     "metadata": {},
     "output_type": "execute_result"
    }
   ],
   "source": [
    "fa2 = FactorAnalyzer(rotation=None,\n",
    "                   is_corr_matrix=True,\n",
    "                   method='minres',\n",
    "                   n_factors=1)\n",
    "fa2.fit(fa.phi_)\n"
   ]
  },
  {
   "cell_type": "code",
   "execution_count": 20,
   "id": "73597135-1570-4afb-a44c-7eba4fd1977c",
   "metadata": {},
   "outputs": [],
   "source": [
    "fa2.phi_"
   ]
  },
  {
   "cell_type": "code",
   "execution_count": 21,
   "id": "b0d6d7dd-ff21-4d99-8a99-67e5dd4a79bc",
   "metadata": {},
   "outputs": [
    {
     "data": {
      "text/plain": [
       "array([[-0.60845908],\n",
       "       [-0.58742867],\n",
       "       [-0.60591484]])"
      ]
     },
     "execution_count": 21,
     "metadata": {},
     "output_type": "execute_result"
    }
   ],
   "source": [
    "fa2.loadings_"
   ]
  },
  {
   "cell_type": "code",
   "execution_count": 22,
   "id": "c379940a-483c-48d5-a9a7-dbc972cab446",
   "metadata": {},
   "outputs": [
    {
     "data": {
      "text/plain": [
       "(array([1.72138587, 0.64733396, 0.63128017]),\n",
       " array([ 1.08242846e+00,  2.52139285e-06, -3.28602258e-06]))"
      ]
     },
     "execution_count": 22,
     "metadata": {},
     "output_type": "execute_result"
    }
   ],
   "source": [
    "fa2.get_eigenvalues()"
   ]
  },
  {
   "cell_type": "code",
   "execution_count": 23,
   "id": "0af59de2-4daa-4a23-994a-35fb963d5974",
   "metadata": {},
   "outputs": [
    {
     "data": {
      "text/plain": [
       "(array([1.08242769]), array([0.36080923]), array([0.36080923]))"
      ]
     },
     "execution_count": 23,
     "metadata": {},
     "output_type": "execute_result"
    }
   ],
   "source": [
    "fa2.get_factor_variance()"
   ]
  },
  {
   "cell_type": "code",
   "execution_count": 24,
   "id": "5b0e50b1-7ad9-45f6-bf65-29a8a018c50a",
   "metadata": {},
   "outputs": [
    {
     "data": {
      "text/plain": [
       "array([[-0.33937392],\n",
       "       [-0.53629742],\n",
       "       [-0.57925982],\n",
       "       [-0.48411518],\n",
       "       [-0.49332779],\n",
       "       [-0.52562183],\n",
       "       [-0.2069105 ],\n",
       "       [-0.57812104],\n",
       "       [-0.39840462]])"
      ]
     },
     "execution_count": 24,
     "metadata": {},
     "output_type": "execute_result"
    }
   ],
   "source": [
    "general_component = np.dot(fa.loadings_,fa2.loadings_)\n",
    "general_component"
   ]
  },
  {
   "cell_type": "code",
   "execution_count": 25,
   "id": "5585e4ae-4dc9-435c-905e-15d38428c7c5",
   "metadata": {},
   "outputs": [
    {
     "data": {
      "text/plain": [
       "array([[2.02811178]])"
      ]
     },
     "execution_count": 25,
     "metadata": {},
     "output_type": "execute_result"
    }
   ],
   "source": [
    "np.dot(general_component.T,general_component)"
   ]
  },
  {
   "cell_type": "code",
   "execution_count": null,
   "id": "0685f5ca-94ff-426a-9d13-9a406c423945",
   "metadata": {},
   "outputs": [],
   "source": []
  },
  {
   "cell_type": "code",
   "execution_count": 26,
   "id": "bc7f6b0a-b0dc-41db-8cdc-0e8b599c6e26",
   "metadata": {},
   "outputs": [
    {
     "data": {
      "text/plain": [
       "array([[ 0.1221234 ,  0.51710072, -0.06385875],\n",
       "       [ 0.05912014,  0.86167702, -0.00965243],\n",
       "       [-0.07628023,  0.55579955,  0.49376679],\n",
       "       [ 0.74855607, -0.07036534,  0.11550148],\n",
       "       [ 0.63230366,  0.26470386, -0.0773999 ],\n",
       "       [ 0.87095513, -0.01819603,  0.01051326],\n",
       "       [ 0.01819876, -0.25205621,  0.56757538],\n",
       "       [ 0.1561189 ,  0.08505298,  0.7148967 ],\n",
       "       [ 0.18787657,  0.07410765,  0.39701363]])"
      ]
     },
     "execution_count": 26,
     "metadata": {},
     "output_type": "execute_result"
    }
   ],
   "source": [
    "fa.loadings_"
   ]
  },
  {
   "cell_type": "code",
   "execution_count": 27,
   "id": "ba0b5744-78f5-4227-b0ac-692b335624ef",
   "metadata": {},
   "outputs": [
    {
     "data": {
      "text/plain": [
       "array([-0.33937392])"
      ]
     },
     "execution_count": 27,
     "metadata": {},
     "output_type": "execute_result"
    }
   ],
   "source": [
    "general_component[0]"
   ]
  },
  {
   "cell_type": "code",
   "execution_count": 28,
   "id": "cf416bf8-d960-43f7-89bd-c6f477350c5e",
   "metadata": {},
   "outputs": [
    {
     "data": {
      "text/plain": [
       "array([0.46978552])"
      ]
     },
     "execution_count": 28,
     "metadata": {},
     "output_type": "execute_result"
    }
   ],
   "source": [
    "((fa.loadings_[0]/fa.get_eigenvalues()[1][0:3])**2).sum()+general_component[0]**2"
   ]
  },
  {
   "cell_type": "code",
   "execution_count": 29,
   "id": "3b366c94-f90f-4fe2-beae-ae8ef0ac9e95",
   "metadata": {},
   "outputs": [
    {
     "data": {
      "text/plain": [
       "array([3.18991791, 0.87955869, 0.73699158])"
      ]
     },
     "execution_count": 29,
     "metadata": {},
     "output_type": "execute_result"
    }
   ],
   "source": [
    "fa.get_eigenvalues()[1][0:3]"
   ]
  },
  {
   "cell_type": "code",
   "execution_count": 30,
   "id": "02b19ac2-b356-441e-a360-00d764100dce",
   "metadata": {},
   "outputs": [
    {
     "data": {
      "text/plain": [
       "array([0.40155988])"
      ]
     },
     "execution_count": 30,
     "metadata": {},
     "output_type": "execute_result"
    }
   ],
   "source": [
    "(fa.loadings_[0]**2).sum()+general_component[0]**2"
   ]
  },
  {
   "cell_type": "code",
   "execution_count": 31,
   "id": "b6cb3ff6-89fe-481b-83c1-645a9f9ef33b",
   "metadata": {},
   "outputs": [
    {
     "data": {
      "text/plain": [
       "array([0.28638522, 0.74607564, 0.55853746, 0.57862807, 0.4758668 ,\n",
       "       0.75900446, 0.38600534, 0.54268441, 0.19840938])"
      ]
     },
     "execution_count": 31,
     "metadata": {},
     "output_type": "execute_result"
    }
   ],
   "source": [
    "fa.get_communalities()"
   ]
  },
  {
   "cell_type": "code",
   "execution_count": 32,
   "id": "1d3b4285-8b2c-4b43-b48c-518757592a4b",
   "metadata": {},
   "outputs": [
    {
     "data": {
      "text/plain": [
       "array([0.62977755, 0.65492756, 0.6328672 ])"
      ]
     },
     "execution_count": 32,
     "metadata": {},
     "output_type": "execute_result"
    }
   ],
   "source": [
    "fa2.get_uniquenesses()"
   ]
  },
  {
   "cell_type": "code",
   "execution_count": 33,
   "id": "bc2cb462-b46b-4432-b8b8-01c728675c74",
   "metadata": {},
   "outputs": [
    {
     "data": {
      "text/plain": [
       "0.10602623872280861"
      ]
     },
     "execution_count": 33,
     "metadata": {},
     "output_type": "execute_result"
    }
   ],
   "source": [
    "fa2.get_communalities()[0]*fa.get_communalities()[0]"
   ]
  },
  {
   "cell_type": "markdown",
   "id": "95b4dcb2-cf1e-482b-ae9f-629265a77ac7",
   "metadata": {},
   "source": [
    "# Omega\n",
    "https://github.com/cran/psych/blob/master/R/omega.R\n",
    "\n",
    "https://github.com/cran/psych/blob/master/R/schmid.R\n"
   ]
  },
  {
   "cell_type": "code",
   "execution_count": 34,
   "id": "d1df5436-3512-4079-98a6-a39fcf6a299c",
   "metadata": {},
   "outputs": [
    {
     "data": {
      "text/plain": [
       "31.461999999999996"
      ]
     },
     "execution_count": 34,
     "metadata": {},
     "output_type": "execute_result"
    }
   ],
   "source": [
    "Vt = df_features.sum().sum() \n",
    "Vt"
   ]
  },
  {
   "cell_type": "code",
   "execution_count": 35,
   "id": "75c00126-1396-4626-86c9-d9dd89c6d4f4",
   "metadata": {},
   "outputs": [
    {
     "data": {
      "text/plain": [
       "9.0"
      ]
     },
     "execution_count": 35,
     "metadata": {},
     "output_type": "execute_result"
    }
   ],
   "source": [
    "Vitem = sum(np.diag(df_features)) \n",
    "Vitem"
   ]
  },
  {
   "cell_type": "code",
   "execution_count": 36,
   "id": "61cddfbf-4c08-4c28-8fd0-f976708340c6",
   "metadata": {},
   "outputs": [
    {
     "data": {
      "text/plain": [
       "17.151460016585627"
      ]
     },
     "execution_count": 36,
     "metadata": {},
     "output_type": "execute_result"
    }
   ],
   "source": [
    "gsq = general_component.sum()**2\n",
    "#gsq = fa2.loadings_.sum()**2\n",
    "gsq"
   ]
  },
  {
   "cell_type": "code",
   "execution_count": 37,
   "id": "d6520c01-a889-48f2-8b06-6be266725045",
   "metadata": {},
   "outputs": [
    {
     "data": {
      "text/plain": [
       "array([0.71361478, 0.25392436, 0.44146254, 0.42137193, 0.5241332 ,\n",
       "       0.24099554, 0.61399466, 0.45731559, 0.80159062])"
      ]
     },
     "execution_count": 37,
     "metadata": {},
     "output_type": "execute_result"
    }
   ],
   "source": [
    "#uniq = np.dot(fa.loadings_.T,fa.loadings_).sum()\n",
    "#uniq\n",
    "fa.get_uniquenesses()"
   ]
  },
  {
   "cell_type": "code",
   "execution_count": 38,
   "id": "d006ebb8-4c50-4af6-94b1-64919a2b5c3b",
   "metadata": {},
   "outputs": [
    {
     "data": {
      "text/plain": [
       "4.468403221004404"
      ]
     },
     "execution_count": 38,
     "metadata": {},
     "output_type": "execute_result"
    }
   ],
   "source": [
    "uniq =fa.get_uniquenesses().sum()\n",
    "uniq"
   ]
  },
  {
   "cell_type": "code",
   "execution_count": 39,
   "id": "c097ee0e-1014-4b94-bcf5-7c595c87fe2b",
   "metadata": {},
   "outputs": [
    {
     "data": {
      "text/plain": [
       "4.93"
      ]
     },
     "execution_count": 39,
     "metadata": {},
     "output_type": "execute_result"
    }
   ],
   "source": [
    "2.03+1.14+0.96+0.80 "
   ]
  },
  {
   "cell_type": "code",
   "execution_count": 40,
   "id": "dc23a7e0-102b-4488-a496-4fcfbaf73d30",
   "metadata": {},
   "outputs": [
    {
     "data": {
      "text/plain": [
       "0.4117647058823529"
      ]
     },
     "execution_count": 40,
     "metadata": {},
     "output_type": "execute_result"
    }
   ],
   "source": [
    "# Explained Common Variance of the general factor =  0.41 \n",
    "2.03/4.93"
   ]
  },
  {
   "cell_type": "code",
   "execution_count": 41,
   "id": "9aa78d76-1ea1-4b6e-a5bc-95b920dc098e",
   "metadata": {},
   "outputs": [
    {
     "data": {
      "text/plain": [
       "9"
      ]
     },
     "execution_count": 41,
     "metadata": {},
     "output_type": "execute_result"
    }
   ],
   "source": [
    "# From now we assume that data is in wide format\n",
    "n, k = df_features.shape\n",
    "nvar = k\n",
    "nvar"
   ]
  },
  {
   "cell_type": "code",
   "execution_count": 42,
   "id": "08df0893-df9a-47d3-829f-8b404f829f6e",
   "metadata": {},
   "outputs": [
    {
     "data": {
      "text/plain": [
       "0.803183205136355"
      ]
     },
     "execution_count": 42,
     "metadata": {},
     "output_type": "execute_result"
    }
   ],
   "source": [
    "C = df_features\n",
    "cronbach = (k / (k - 1)) * (1 - np.trace(C) / C.sum().sum())\n",
    "cronbach"
   ]
  },
  {
   "cell_type": "code",
   "execution_count": 43,
   "id": "859cbf1c-02aa-4a1f-821d-0f6a9520b5f4",
   "metadata": {},
   "outputs": [
    {
     "data": {
      "text/plain": [
       "0.803183205136355"
      ]
     },
     "execution_count": 43,
     "metadata": {},
     "output_type": "execute_result"
    }
   ],
   "source": [
    "alpha_cronbach = ((Vt-Vitem)/Vt)*(nvar/(nvar-1))\n",
    "alpha_cronbach"
   ]
  },
  {
   "cell_type": "code",
   "execution_count": 44,
   "id": "405f5ac1-d6c9-4aef-9e35-55c15a36dd50",
   "metadata": {},
   "outputs": [
    {
     "data": {
      "text/plain": [
       "0.5451484335574861"
      ]
     },
     "execution_count": 44,
     "metadata": {},
     "output_type": "execute_result"
    }
   ],
   "source": [
    "omega_hierachical= gsq/Vt\n",
    "omega_hierachical"
   ]
  },
  {
   "cell_type": "code",
   "execution_count": 45,
   "id": "8e60dc65-1f03-46af-affa-3a7692e52873",
   "metadata": {},
   "outputs": [
    {
     "data": {
      "text/plain": [
       "0.8579745972600469"
      ]
     },
     "execution_count": 45,
     "metadata": {},
     "output_type": "execute_result"
    }
   ],
   "source": [
    "omega_total=(Vt-uniq)/Vt\n",
    "omega_total"
   ]
  },
  {
   "cell_type": "code",
   "execution_count": 46,
   "id": "b84e2987-7ad8-46d4-802e-0c174edf3c5b",
   "metadata": {},
   "outputs": [
    {
     "data": {
      "text/plain": [
       "0.6353899466236236"
      ]
     },
     "execution_count": 46,
     "metadata": {},
     "output_type": "execute_result"
    }
   ],
   "source": [
    "#omega_hierachical_asymptotic\n",
    "gsq/(Vt-uniq)"
   ]
  },
  {
   "cell_type": "code",
   "execution_count": 47,
   "id": "5687ef05-55b0-426d-965c-e823277a23ff",
   "metadata": {},
   "outputs": [],
   "source": [
    "# h**2 y u**2"
   ]
  },
  {
   "cell_type": "code",
   "execution_count": 48,
   "id": "b5d4cd7d-5744-4224-8770-55cf1a6532ff",
   "metadata": {},
   "outputs": [
    {
     "data": {
      "text/plain": [
       "array([0.71361478, 0.25392436, 0.44146254, 0.42137193, 0.5241332 ,\n",
       "       0.24099554, 0.61399466, 0.45731559, 0.80159062])"
      ]
     },
     "execution_count": 48,
     "metadata": {},
     "output_type": "execute_result"
    }
   ],
   "source": [
    "fa.get_uniquenesses()"
   ]
  },
  {
   "cell_type": "code",
   "execution_count": 50,
   "id": "9e4f3b55-7fad-4627-b950-9ddb0caca242",
   "metadata": {},
   "outputs": [
    {
     "data": {
      "text/plain": [
       "array([[ 0.1221234 ,  0.51710072, -0.06385875],\n",
       "       [ 0.05912014,  0.86167702, -0.00965243],\n",
       "       [-0.07628023,  0.55579955,  0.49376679],\n",
       "       [ 0.74855607, -0.07036534,  0.11550148],\n",
       "       [ 0.63230366,  0.26470386, -0.0773999 ],\n",
       "       [ 0.87095513, -0.01819603,  0.01051326],\n",
       "       [ 0.01819876, -0.25205621,  0.56757538],\n",
       "       [ 0.1561189 ,  0.08505298,  0.7148967 ],\n",
       "       [ 0.18787657,  0.07410765,  0.39701363]])"
      ]
     },
     "execution_count": 50,
     "metadata": {},
     "output_type": "execute_result"
    }
   ],
   "source": [
    "fa.loadings_"
   ]
  },
  {
   "cell_type": "code",
   "execution_count": 52,
   "id": "fab5846f-3627-4aae-bf38-fd6911882a77",
   "metadata": {},
   "outputs": [
    {
     "data": {
      "text/plain": [
       "array([0.28638522, 0.74607564, 0.55853746, 0.57862807, 0.4758668 ,\n",
       "       0.75900446, 0.38600534, 0.54268441, 0.19840938])"
      ]
     },
     "execution_count": 52,
     "metadata": {},
     "output_type": "execute_result"
    }
   ],
   "source": [
    "fa.get_communalities()\n"
   ]
  },
  {
   "cell_type": "code",
   "execution_count": 54,
   "id": "3f300b7b-7844-497a-87e8-196e645aa60e",
   "metadata": {},
   "outputs": [
    {
     "data": {
      "text/plain": [
       "(array([1.80293685, 1.47040238, 1.25825755]),\n",
       " array([0.20032632, 0.16337804, 0.13980639]),\n",
       " array([0.20032632, 0.36370436, 0.50351075]))"
      ]
     },
     "execution_count": 54,
     "metadata": {},
     "output_type": "execute_result"
    }
   ],
   "source": [
    "fa.get_factor_variance()"
   ]
  },
  {
   "cell_type": "code",
   "execution_count": 56,
   "id": "5fe512f0-b216-4f83-8203-059900689b87",
   "metadata": {},
   "outputs": [
    {
     "data": {
      "text/plain": [
       "(array([3.63686274, 1.31910384, 1.2356267 , 0.74546277, 0.61997442,\n",
       "        0.48550516, 0.37124956, 0.32313009, 0.26308472]),\n",
       " array([ 3.18991791,  0.87955869,  0.73699158,  0.08767277,  0.01897435,\n",
       "        -0.02341487, -0.04864182, -0.13957934, -0.16988251]))"
      ]
     },
     "execution_count": 56,
     "metadata": {},
     "output_type": "execute_result"
    }
   ],
   "source": [
    "fa.get_eigenvalues()"
   ]
  },
  {
   "cell_type": "code",
   "execution_count": null,
   "id": "b42d765c-0e93-4757-9e15-b97d11d9cbff",
   "metadata": {},
   "outputs": [],
   "source": [
    "fa.get_factor_variance()"
   ]
  },
  {
   "cell_type": "code",
   "execution_count": 58,
   "id": "95e9ef00-27c4-4153-a79a-05ea3ebd5c2e",
   "metadata": {},
   "outputs": [
    {
     "data": {
      "text/plain": [
       "0.7878787878787877"
      ]
     },
     "execution_count": 58,
     "metadata": {},
     "output_type": "execute_result"
    }
   ],
   "source": [
    "(0.099/0.078)**-1"
   ]
  },
  {
   "cell_type": "code",
   "execution_count": 59,
   "id": "ad0bee35-180c-42c9-b84a-cf0b8bd79543",
   "metadata": {},
   "outputs": [
    {
     "data": {
      "text/plain": [
       "array([0.62977755, 0.65492756, 0.6328672 ])"
      ]
     },
     "execution_count": 59,
     "metadata": {},
     "output_type": "execute_result"
    }
   ],
   "source": [
    "fa2.get_uniquenesses()"
   ]
  },
  {
   "cell_type": "code",
   "execution_count": 62,
   "id": "c97ee934-b149-44a2-9d03-c60c62781a98",
   "metadata": {},
   "outputs": [
    {
     "data": {
      "text/plain": [
       "array([ 0.07691057,  0.33866351, -0.04041411])"
      ]
     },
     "execution_count": 62,
     "metadata": {},
     "output_type": "execute_result"
    }
   ],
   "source": [
    "fa.loadings_[0]*fa2.get_uniquenesses()"
   ]
  },
  {
   "cell_type": "code",
   "execution_count": 66,
   "id": "49eb44ac-4965-4413-99ec-510a3f6df74a",
   "metadata": {},
   "outputs": [
    {
     "data": {
      "text/plain": [
       "3"
      ]
     },
     "execution_count": 66,
     "metadata": {},
     "output_type": "execute_result"
    }
   ],
   "source": [
    "fa2.get_uniquenesses().__len__()"
   ]
  },
  {
   "cell_type": "code",
   "execution_count": 74,
   "id": "3bfd8572-812e-4e56-bcc1-4ea532c43ec8",
   "metadata": {},
   "outputs": [
    {
     "data": {
      "text/plain": [
       "array([[-0.60845908],\n",
       "       [-0.58742867],\n",
       "       [-0.60591484]])"
      ]
     },
     "execution_count": 74,
     "metadata": {},
     "output_type": "execute_result"
    }
   ],
   "source": [
    "fa2.loadings_"
   ]
  },
  {
   "cell_type": "code",
   "execution_count": 77,
   "id": "7f20941a-93f1-4998-8bcc-c214d766357c",
   "metadata": {},
   "outputs": [
    {
     "data": {
      "text/plain": [
       "array([[0., 0., 0.],\n",
       "       [0., 0., 0.],\n",
       "       [0., 0., 0.],\n",
       "       [0., 0., 0.],\n",
       "       [0., 0., 0.],\n",
       "       [0., 0., 0.],\n",
       "       [0., 0., 0.],\n",
       "       [0., 0., 0.],\n",
       "       [0., 0., 0.]])"
      ]
     },
     "execution_count": 77,
     "metadata": {},
     "output_type": "execute_result"
    }
   ],
   "source": [
    "fa3 = np.zeros(fa.loadings_.shape)\n",
    "fa3"
   ]
  },
  {
   "cell_type": "code",
   "execution_count": 79,
   "id": "5fd26aad-a374-4407-9a19-42a6d7e69e98",
   "metadata": {},
   "outputs": [
    {
     "name": "stdout",
     "output_type": "stream",
     "text": [
      "0 [ 0.07691057  0.03723254 -0.04803958  0.47142381  0.39821065  0.54850799\n",
      "  0.01146117  0.09832018  0.11832045]\n",
      "1 [ 0.33866351  0.56433602  0.36400844 -0.0460842   0.17336185 -0.01191708\n",
      " -0.16507856  0.05570354  0.04853514]\n",
      "2 [-0.04041411 -0.00610871  0.31248881  0.0730971  -0.04898386  0.0066535\n",
      "  0.35919984  0.45243468  0.25125691]\n"
     ]
    }
   ],
   "source": [
    "for i in range(0,fa2.get_uniquenesses().__len__()):\n",
    "    print(i, fa.loadings_[:,i]*fa2.get_uniquenesses()[i])\n",
    "    fa3[:,i] = fa.loadings_[:,i]*fa2.get_uniquenesses()[i]"
   ]
  },
  {
   "cell_type": "code",
   "execution_count": 80,
   "id": "56e1873e-7d17-4d60-a2ae-134814908e5f",
   "metadata": {},
   "outputs": [
    {
     "data": {
      "text/plain": [
       "array([[ 0.07691057,  0.33866351, -0.04041411],\n",
       "       [ 0.03723254,  0.56433602, -0.00610871],\n",
       "       [-0.04803958,  0.36400844,  0.31248881],\n",
       "       [ 0.47142381, -0.0460842 ,  0.0730971 ],\n",
       "       [ 0.39821065,  0.17336185, -0.04898386],\n",
       "       [ 0.54850799, -0.01191708,  0.0066535 ],\n",
       "       [ 0.01146117, -0.16507856,  0.35919984],\n",
       "       [ 0.09832018,  0.05570354,  0.45243468],\n",
       "       [ 0.11832045,  0.04853514,  0.25125691]])"
      ]
     },
     "execution_count": 80,
     "metadata": {},
     "output_type": "execute_result"
    }
   ],
   "source": [
    "fa3"
   ]
  },
  {
   "cell_type": "code",
   "execution_count": 91,
   "id": "f8a6b48c-be57-46a7-83bb-75ee7c070731",
   "metadata": {},
   "outputs": [
    {
     "data": {
      "text/plain": [
       "array([0.23741617])"
      ]
     },
     "execution_count": 91,
     "metadata": {},
     "output_type": "execute_result"
    }
   ],
   "source": [
    "(fa3[0]**2).sum()+general_component[0]**2"
   ]
  },
  {
   "cell_type": "code",
   "execution_count": 99,
   "id": "e113166f-5708-47b0-88fe-45719fbf8d59",
   "metadata": {},
   "outputs": [
    {
     "data": {
      "text/plain": [
       "array([0.38600883])"
      ]
     },
     "execution_count": 99,
     "metadata": {},
     "output_type": "execute_result"
    }
   ],
   "source": [
    "# looks like p2\n",
    "(fa2.loadings_[0]**2).sum()+(general_component[0]*fa2.get_communalities()[0])**2"
   ]
  },
  {
   "cell_type": "code",
   "execution_count": 88,
   "id": "ae57fa4d-2729-469b-863c-4eddf9360458",
   "metadata": {},
   "outputs": [
    {
     "data": {
      "text/plain": [
       "0.28638522126554994"
      ]
     },
     "execution_count": 88,
     "metadata": {},
     "output_type": "execute_result"
    }
   ],
   "source": [
    "fa.get_communalities()[0]"
   ]
  },
  {
   "cell_type": "code",
   "execution_count": 90,
   "id": "d2338c15-bede-42b8-b5e8-84b8711629ce",
   "metadata": {},
   "outputs": [
    {
     "data": {
      "text/plain": [
       "0.71361477873445"
      ]
     },
     "execution_count": 90,
     "metadata": {},
     "output_type": "execute_result"
    }
   ],
   "source": [
    "fa.get_uniquenesses()[0]"
   ]
  },
  {
   "cell_type": "code",
   "execution_count": 98,
   "id": "d1546e00-1cfd-4831-9ce9-cc843fc0c543",
   "metadata": {},
   "outputs": [
    {
     "data": {
      "text/plain": [
       "0.3702224516135072"
      ]
     },
     "execution_count": 98,
     "metadata": {},
     "output_type": "execute_result"
    }
   ],
   "source": [
    "fa2.get_communalities()[0]"
   ]
  },
  {
   "cell_type": "code",
   "execution_count": 102,
   "id": "1f2ea79a-67ae-4848-a56b-2f81ee69930a",
   "metadata": {},
   "outputs": [
    {
     "data": {
      "text/plain": [
       "array([0.71361478, 0.25392436, 0.44146254, 0.42137193, 0.5241332 ,\n",
       "       0.24099554, 0.61399466, 0.45731559, 0.80159062])"
      ]
     },
     "execution_count": 102,
     "metadata": {},
     "output_type": "execute_result"
    }
   ],
   "source": [
    "fa.get_uniquenesses()"
   ]
  },
  {
   "cell_type": "code",
   "execution_count": 103,
   "id": "9bb9e4f2-1db7-4725-a2e6-549a240f160a",
   "metadata": {},
   "outputs": [
    {
     "data": {
      "text/plain": [
       "array([0.28638522, 0.74607564, 0.55853746, 0.57862807, 0.4758668 ,\n",
       "       0.75900446, 0.38600534, 0.54268441, 0.19840938])"
      ]
     },
     "execution_count": 103,
     "metadata": {},
     "output_type": "execute_result"
    }
   ],
   "source": [
    "fa.get_communalities()"
   ]
  },
  {
   "cell_type": "code",
   "execution_count": 104,
   "id": "2439f4f2-9836-4abd-a14d-c9060ac058e7",
   "metadata": {},
   "outputs": [
    {
     "data": {
      "text/plain": [
       "array([0.37022245, 0.34507244, 0.3671328 ])"
      ]
     },
     "execution_count": 104,
     "metadata": {},
     "output_type": "execute_result"
    }
   ],
   "source": [
    "fa2.get_communalities()"
   ]
  },
  {
   "cell_type": "code",
   "execution_count": null,
   "id": "1ed00f8a-1c33-4810-9406-9e39676d10a3",
   "metadata": {},
   "outputs": [],
   "source": []
  }
 ],
 "metadata": {
  "kernelspec": {
   "display_name": "py38",
   "language": "python",
   "name": "py38"
  },
  "language_info": {
   "codemirror_mode": {
    "name": "ipython",
    "version": 3
   },
   "file_extension": ".py",
   "mimetype": "text/x-python",
   "name": "python",
   "nbconvert_exporter": "python",
   "pygments_lexer": "ipython3",
   "version": "3.8.12"
  }
 },
 "nbformat": 4,
 "nbformat_minor": 5
}
