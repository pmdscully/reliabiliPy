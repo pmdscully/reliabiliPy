{
 "cells": [
  {
   "cell_type": "code",
   "execution_count": 154,
   "id": "8685dcc4-2d6e-448e-b102-93325e0217a1",
   "metadata": {},
   "outputs": [],
   "source": [
    "name_notebook = 'revelle_ch7_example_short' # this is to save"
   ]
  },
  {
   "cell_type": "code",
   "execution_count": 155,
   "id": "a25f285c-9a75-4aa5-a564-1af8900ce867",
   "metadata": {},
   "outputs": [
    {
     "name": "stdout",
     "output_type": "stream",
     "text": [
      "The autoreload extension is already loaded. To reload it, use:\n",
      "  %reload_ext autoreload\n"
     ]
    }
   ],
   "source": [
    "%load_ext autoreload\n",
    "%autoreload 2\n",
    "import pandas as pd\n",
    "import numpy as np\n",
    "import sys\n",
    "sys.path.append(\"../\")\n",
    "from reliabilipy import reliability_analysis"
   ]
  },
  {
   "cell_type": "markdown",
   "id": "59162bf7-530a-45bd-933b-c45ef5f8abf4",
   "metadata": {},
   "source": [
    "Dataset as examample in Table 7.5  https://personality-project.org/r/book/Chapter7.pdf"
   ]
  },
  {
   "cell_type": "code",
   "execution_count": 156,
   "id": "75655a7b",
   "metadata": {},
   "outputs": [],
   "source": [
    "V = pd.DataFrame(np.matrix([[1.0, 0.5, 0.5, 0.5, 0.5, 0.5, 0.2, 0.2, 0.2, 0.2, 0.2, 0.2],\n",
    "[0.5, 1.0, 0.5, 0.5, 0.5, 0.5, 0.2, 0.2, 0.2, 0.2, 0.2, 0.2],\n",
    "[0.5, 0.5, 1.0, 0.5, 0.5, 0.5, 0.2, 0.2, 0.2, 0.2, 0.2, 0.2],\n",
    "[0.5, 0.5, 0.5, 1.0, 0.5, 0.5, 0.2, 0.2, 0.2, 0.2, 0.2, 0.2],\n",
    "[0.5, 0.5, 0.5, 0.5, 1.0, 0.5, 0.2, 0.2, 0.2, 0.2, 0.2, 0.2],\n",
    "[0.5, 0.5, 0.5, 0.5, 0.5, 1.0, 0.2, 0.2, 0.2, 0.2, 0.2, 0.2],\n",
    "[0.2, 0.2, 0.2, 0.2, 0.2, 0.2, 1.0, 0.6, 0.6, 0.6, 0.2, 0.2],\n",
    "[0.2, 0.2, 0.2, 0.2, 0.2, 0.2, 0.6, 1.0, 0.6, 0.6, 0.2, 0.2],\n",
    "[0.2, 0.2, 0.2, 0.2, 0.2, 0.2, 0.6, 0.6, 1.0, 0.6, 0.2, 0.2],\n",
    "[0.2, 0.2, 0.2, 0.2, 0.2, 0.2, 0.6, 0.6, 0.6, 1.0, 0.2, 0.2],\n",
    "[0.2, 0.2, 0.2, 0.2, 0.2, 0.2, 0.2, 0.2, 0.2, 0.2, 1.0, 0.7],\n",
    "[0.2, 0.2, 0.2, 0.2, 0.2, 0.2, 0.2, 0.2, 0.2, 0.2, 0.7, 1.0]]))"
   ]
  },
  {
   "cell_type": "markdown",
   "id": "e608ec78-968c-4d84-9aab-eae8fd8c6b1b",
   "metadata": {},
   "source": [
    "Lets try to stimate different reliability measures"
   ]
  },
  {
   "cell_type": "code",
   "execution_count": 157,
   "id": "b6564e03-6027-4ec2-896d-c26fe5e349d7",
   "metadata": {},
   "outputs": [
    {
     "name": "stdout",
     "output_type": "stream",
     "text": [
      "0.7744360902255639\n",
      "0.8537487885405894\n",
      "0.8448393711551606\n"
     ]
    }
   ],
   "source": [
    "reliability_report = reliability_analysis(correlations_matrix=V)\n",
    "reliability_report.fit()\n",
    "print(reliability_report.lambda1)\n",
    "print(reliability_report.lambda2)\n",
    "print(reliability_report.alpha_cronbach)"
   ]
  },
  {
   "cell_type": "code",
   "execution_count": 158,
   "id": "bae41934-089f-4323-8768-0347164d1f61",
   "metadata": {},
   "outputs": [
    {
     "name": "stdout",
     "output_type": "stream",
     "text": [
      "0.9022556800089196\n",
      "0.5413535677830178\n",
      "0.6000001770869052\n"
     ]
    }
   ],
   "source": [
    "print(reliability_report.omega_total)\n",
    "print(reliability_report.omega_hierarchical)\n",
    "print(reliability_report.omega_hierarchical_asymptotic)"
   ]
  },
  {
   "cell_type": "code",
   "execution_count": 159,
   "id": "49a0bd33-994c-4c6b-9974-c868eca05813",
   "metadata": {},
   "outputs": [
    {
     "data": {
      "text/html": [
       "<div>\n",
       "<style scoped>\n",
       "    .dataframe tbody tr th:only-of-type {\n",
       "        vertical-align: middle;\n",
       "    }\n",
       "\n",
       "    .dataframe tbody tr th {\n",
       "        vertical-align: top;\n",
       "    }\n",
       "\n",
       "    .dataframe thead th {\n",
       "        text-align: right;\n",
       "    }\n",
       "</style>\n",
       "<table border=\"1\" class=\"dataframe\">\n",
       "  <thead>\n",
       "    <tr style=\"text-align: right;\">\n",
       "      <th></th>\n",
       "      <th>g</th>\n",
       "      <th>F0</th>\n",
       "      <th>F1</th>\n",
       "      <th>F2</th>\n",
       "    </tr>\n",
       "  </thead>\n",
       "  <tbody>\n",
       "    <tr>\n",
       "      <th>eigenvalues</th>\n",
       "      <td>2.400001</td>\n",
       "      <td>1.800007</td>\n",
       "      <td>1.599981</td>\n",
       "      <td>1.000007</td>\n",
       "    </tr>\n",
       "  </tbody>\n",
       "</table>\n",
       "</div>"
      ],
      "text/plain": [
       "                    g        F0        F1        F2\n",
       "eigenvalues  2.400001  1.800007  1.599981  1.000007"
      ]
     },
     "execution_count": 159,
     "metadata": {},
     "output_type": "execute_result"
    }
   ],
   "source": [
    "reliability_report.report_eigenvalues"
   ]
  },
  {
   "cell_type": "code",
   "execution_count": 160,
   "id": "d60a2624-6fa1-4ea6-be2a-d0414c57db48",
   "metadata": {},
   "outputs": [
    {
     "data": {
      "text/html": [
       "<div>\n",
       "<style scoped>\n",
       "    .dataframe tbody tr th:only-of-type {\n",
       "        vertical-align: middle;\n",
       "    }\n",
       "\n",
       "    .dataframe tbody tr th {\n",
       "        vertical-align: top;\n",
       "    }\n",
       "\n",
       "    .dataframe thead th {\n",
       "        text-align: right;\n",
       "    }\n",
       "</style>\n",
       "<table border=\"1\" class=\"dataframe\">\n",
       "  <thead>\n",
       "    <tr style=\"text-align: right;\">\n",
       "      <th></th>\n",
       "      <th>g</th>\n",
       "      <th>F0</th>\n",
       "      <th>F1</th>\n",
       "      <th>F2</th>\n",
       "      <th>u2</th>\n",
       "      <th>h2</th>\n",
       "    </tr>\n",
       "  </thead>\n",
       "  <tbody>\n",
       "    <tr>\n",
       "      <th>0</th>\n",
       "      <td>0.45</td>\n",
       "      <td>0.55</td>\n",
       "      <td>0.00</td>\n",
       "      <td>0.00</td>\n",
       "      <td>0.5</td>\n",
       "      <td>0.5</td>\n",
       "    </tr>\n",
       "    <tr>\n",
       "      <th>1</th>\n",
       "      <td>0.45</td>\n",
       "      <td>0.55</td>\n",
       "      <td>0.00</td>\n",
       "      <td>0.00</td>\n",
       "      <td>0.5</td>\n",
       "      <td>0.5</td>\n",
       "    </tr>\n",
       "    <tr>\n",
       "      <th>2</th>\n",
       "      <td>0.45</td>\n",
       "      <td>0.55</td>\n",
       "      <td>0.00</td>\n",
       "      <td>0.00</td>\n",
       "      <td>0.5</td>\n",
       "      <td>0.5</td>\n",
       "    </tr>\n",
       "    <tr>\n",
       "      <th>3</th>\n",
       "      <td>0.45</td>\n",
       "      <td>0.55</td>\n",
       "      <td>0.00</td>\n",
       "      <td>0.00</td>\n",
       "      <td>0.5</td>\n",
       "      <td>0.5</td>\n",
       "    </tr>\n",
       "    <tr>\n",
       "      <th>4</th>\n",
       "      <td>0.45</td>\n",
       "      <td>0.55</td>\n",
       "      <td>0.00</td>\n",
       "      <td>0.00</td>\n",
       "      <td>0.5</td>\n",
       "      <td>0.5</td>\n",
       "    </tr>\n",
       "    <tr>\n",
       "      <th>5</th>\n",
       "      <td>0.45</td>\n",
       "      <td>0.55</td>\n",
       "      <td>0.00</td>\n",
       "      <td>0.00</td>\n",
       "      <td>0.5</td>\n",
       "      <td>0.5</td>\n",
       "    </tr>\n",
       "    <tr>\n",
       "      <th>6</th>\n",
       "      <td>0.45</td>\n",
       "      <td>0.00</td>\n",
       "      <td>0.63</td>\n",
       "      <td>0.00</td>\n",
       "      <td>0.4</td>\n",
       "      <td>0.6</td>\n",
       "    </tr>\n",
       "    <tr>\n",
       "      <th>7</th>\n",
       "      <td>0.45</td>\n",
       "      <td>0.00</td>\n",
       "      <td>0.63</td>\n",
       "      <td>0.00</td>\n",
       "      <td>0.4</td>\n",
       "      <td>0.6</td>\n",
       "    </tr>\n",
       "    <tr>\n",
       "      <th>8</th>\n",
       "      <td>0.45</td>\n",
       "      <td>0.00</td>\n",
       "      <td>0.63</td>\n",
       "      <td>0.00</td>\n",
       "      <td>0.4</td>\n",
       "      <td>0.6</td>\n",
       "    </tr>\n",
       "    <tr>\n",
       "      <th>9</th>\n",
       "      <td>0.45</td>\n",
       "      <td>0.00</td>\n",
       "      <td>0.63</td>\n",
       "      <td>0.00</td>\n",
       "      <td>0.4</td>\n",
       "      <td>0.6</td>\n",
       "    </tr>\n",
       "    <tr>\n",
       "      <th>10</th>\n",
       "      <td>0.45</td>\n",
       "      <td>0.00</td>\n",
       "      <td>0.00</td>\n",
       "      <td>0.71</td>\n",
       "      <td>0.3</td>\n",
       "      <td>0.7</td>\n",
       "    </tr>\n",
       "    <tr>\n",
       "      <th>11</th>\n",
       "      <td>0.45</td>\n",
       "      <td>0.00</td>\n",
       "      <td>0.00</td>\n",
       "      <td>0.71</td>\n",
       "      <td>0.3</td>\n",
       "      <td>0.7</td>\n",
       "    </tr>\n",
       "  </tbody>\n",
       "</table>\n",
       "</div>"
      ],
      "text/plain": [
       "       g    F0    F1    F2   u2   h2\n",
       "0   0.45  0.55  0.00  0.00  0.5  0.5\n",
       "1   0.45  0.55  0.00  0.00  0.5  0.5\n",
       "2   0.45  0.55  0.00  0.00  0.5  0.5\n",
       "3   0.45  0.55  0.00  0.00  0.5  0.5\n",
       "4   0.45  0.55  0.00  0.00  0.5  0.5\n",
       "5   0.45  0.55  0.00  0.00  0.5  0.5\n",
       "6   0.45  0.00  0.63  0.00  0.4  0.6\n",
       "7   0.45  0.00  0.63  0.00  0.4  0.6\n",
       "8   0.45  0.00  0.63  0.00  0.4  0.6\n",
       "9   0.45  0.00  0.63  0.00  0.4  0.6\n",
       "10  0.45  0.00  0.00  0.71  0.3  0.7\n",
       "11  0.45  0.00  0.00  0.71  0.3  0.7"
      ]
     },
     "execution_count": 160,
     "metadata": {},
     "output_type": "execute_result"
    }
   ],
   "source": [
    "reliability_report.report_loadings"
   ]
  },
  {
   "cell_type": "code",
   "execution_count": 162,
   "id": "33aae7e7-ca8e-4990-9ea5-45845043eeb6",
   "metadata": {},
   "outputs": [
    {
     "name": "stdout",
     "output_type": "stream",
     "text": [
      "jupytext --to py revelle_ch7_example_short.ipynb\n",
      "[jupytext] Reading revelle_ch7_example_short.ipynb in format ipynb\n",
      "[jupytext] Writing revelle_ch7_example_short.py (destination file replaced [use --update to preserve cell outputs and ids])\n"
     ]
    },
    {
     "data": {
      "text/plain": [
       "0"
      ]
     },
     "execution_count": 162,
     "metadata": {},
     "output_type": "execute_result"
    }
   ],
   "source": [
    "import os\n",
    "order = f'jupytext --to py {name_notebook}.ipynb'\n",
    "print(order)\n",
    "os.system(order)"
   ]
  },
  {
   "cell_type": "code",
   "execution_count": null,
   "id": "10b1bc99-57b2-4ec8-bc28-056cd75e0e0f",
   "metadata": {},
   "outputs": [],
   "source": []
  }
 ],
 "metadata": {
  "jupytext": {
   "cell_metadata_filter": "-all",
   "main_language": "python",
   "notebook_metadata_filter": "-all"
  },
  "kernelspec": {
   "display_name": "py38",
   "language": "python",
   "name": "py38"
  },
  "language_info": {
   "codemirror_mode": {
    "name": "ipython",
    "version": 3
   },
   "file_extension": ".py",
   "mimetype": "text/x-python",
   "name": "python",
   "nbconvert_exporter": "python",
   "pygments_lexer": "ipython3",
   "version": "3.8.12"
  }
 },
 "nbformat": 4,
 "nbformat_minor": 5
}
