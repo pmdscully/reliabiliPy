{
 "cells": [
  {
   "cell_type": "markdown",
   "id": "6fca5759-6515-4338-b7ec-cb16b1b7afaa",
   "metadata": {},
   "source": [
    "\n",
    "\n",
    "# Aim\n",
    "\n",
    "To provide a clear understanding of some of the key measures or reliability and their implementation in `python`.\n",
    "\n",
    "# How\n",
    "\n",
    "To do that I will follow references as close as possible while providing the python code of the implementation of the ideas and examples.\n",
    "\n",
    "Revelle has greatly created and write many papers in the matter and the library `psych`in `R` with the corresponding implementations. We would follow Revelle 2021 and 2017, in particlar Revelle 2021 very closely.\n",
    "\n",
    "We would expand a bit when calculating the omegas and in particular when using the `Schmid-Leiman` solution, following Wolff and Presing 2005, as it constains a clear explanations of the theory and the estimation, as in this paper authors describe the implementation in `SPSS` and `SAS`, which something similar we are trying to do here in `python`.\n",
    "\n",
    "\n",
    "## References\n",
    "* Revelle, Willian. Manuscrip. 2021. An introduction to psychometric theory with applications in R. https://personality-project.org/r/book/Chapter7.pdf\n",
    "* Revelle, William R. \"psych: Procedures for personality and psychological research.\" (2017).\n",
    "* Wolff, Hans-Georg, and Katja Preising. \"Exploring item and higher order factor structure with the Schmid-Leiman solution: Syntax codes for SPSS and SAS.\" Behavior Research Methods 37.1 (2005): 48-58.\n",
    "\n",
    "Examples in R.\n",
    "\n",
    "This work: \n",
    "* Rafael Valero Fernández. (2022). reliabiliPy: measures of survey domain reliability in Python with explanations and examples. Cronbach´s Alpha and Omegas. (v0.0.0). Zenodo.[![DOI](https://zenodo.org/badge/445846537.svg)](https://zenodo.org/badge/latestdoi/445846537) "
   ]
  },
  {
   "cell_type": "code",
   "execution_count": 1,
   "id": "8685dcc4-2d6e-448e-b102-93325e0217a1",
   "metadata": {},
   "outputs": [],
   "source": [
    "name_notebook = 'revelle_ch7_example' # this is to save"
   ]
  },
  {
   "cell_type": "code",
   "execution_count": 2,
   "id": "a25f285c-9a75-4aa5-a564-1af8900ce867",
   "metadata": {},
   "outputs": [],
   "source": [
    "%load_ext autoreload\n",
    "%autoreload 2\n",
    "import pandas as pd\n",
    "import numpy as np\n",
    "import sys\n",
    "sys.path.append(\"../\")\n",
    "from reliabilipy import reliability_analysis"
   ]
  },
  {
   "cell_type": "markdown",
   "id": "59162bf7-530a-45bd-933b-c45ef5f8abf4",
   "metadata": {},
   "source": [
    "Dataset as examample in Table 7.5  https://personality-project.org/r/book/Chapter7.pdf"
   ]
  },
  {
   "cell_type": "code",
   "execution_count": 3,
   "id": "75655a7b",
   "metadata": {},
   "outputs": [],
   "source": [
    "V = pd.DataFrame(np.matrix([[1.0, 0.5, 0.5, 0.5, 0.5, 0.5, 0.2, 0.2, 0.2, 0.2, 0.2, 0.2],\n",
    "[0.5, 1.0, 0.5, 0.5, 0.5, 0.5, 0.2, 0.2, 0.2, 0.2, 0.2, 0.2],\n",
    "[0.5, 0.5, 1.0, 0.5, 0.5, 0.5, 0.2, 0.2, 0.2, 0.2, 0.2, 0.2],\n",
    "[0.5, 0.5, 0.5, 1.0, 0.5, 0.5, 0.2, 0.2, 0.2, 0.2, 0.2, 0.2],\n",
    "[0.5, 0.5, 0.5, 0.5, 1.0, 0.5, 0.2, 0.2, 0.2, 0.2, 0.2, 0.2],\n",
    "[0.5, 0.5, 0.5, 0.5, 0.5, 1.0, 0.2, 0.2, 0.2, 0.2, 0.2, 0.2],\n",
    "[0.2, 0.2, 0.2, 0.2, 0.2, 0.2, 1.0, 0.6, 0.6, 0.6, 0.2, 0.2],\n",
    "[0.2, 0.2, 0.2, 0.2, 0.2, 0.2, 0.6, 1.0, 0.6, 0.6, 0.2, 0.2],\n",
    "[0.2, 0.2, 0.2, 0.2, 0.2, 0.2, 0.6, 0.6, 1.0, 0.6, 0.2, 0.2],\n",
    "[0.2, 0.2, 0.2, 0.2, 0.2, 0.2, 0.6, 0.6, 0.6, 1.0, 0.2, 0.2],\n",
    "[0.2, 0.2, 0.2, 0.2, 0.2, 0.2, 0.2, 0.2, 0.2, 0.2, 1.0, 0.7],\n",
    "[0.2, 0.2, 0.2, 0.2, 0.2, 0.2, 0.2, 0.2, 0.2, 0.2, 0.7, 1.0]]))"
   ]
  },
  {
   "cell_type": "markdown",
   "id": "e608ec78-968c-4d84-9aab-eae8fd8c6b1b",
   "metadata": {},
   "source": [
    "Lets try to stimate different reliability measures"
   ]
  },
  {
   "cell_type": "code",
   "execution_count": 4,
   "id": "0a872370",
   "metadata": {},
   "outputs": [
    {
     "name": "stdout",
     "output_type": "stream",
     "text": [
      "53.20000000000001\n"
     ]
    }
   ],
   "source": [
    "Vx=V.sum().sum()\n",
    "print(Vx)"
   ]
  },
  {
   "cell_type": "markdown",
   "id": "89212c2c-6e7b-438d-9624-3ad4623772f4",
   "metadata": {},
   "source": [
    "$$\n",
    "\\lambda_{1}=1-\\frac{\\operatorname{tr}\\left(\\mathbf{V}_{\\mathbf{x}}\\right)}{V_{x}}=\\frac{V_{x}-\\operatorname{tr}\\left(\\mathbf{V}_{x}\\right)}{V_{x}} .\n",
    "$$\n",
    "In the example:\n",
    "$$\n",
    "\\lambda_{1}=1-\\frac{12}{53.2}=\\frac{41.2}{53.2}=.774\n",
    "$$"
   ]
  },
  {
   "cell_type": "code",
   "execution_count": 5,
   "id": "30d96dd3",
   "metadata": {},
   "outputs": [
    {
     "name": "stdout",
     "output_type": "stream",
     "text": [
      "0.7744360902255639\n"
     ]
    }
   ],
   "source": [
    "lambda1 = 1 - np.diag(V).sum() / Vx\n",
    "print(lambda1)"
   ]
  },
  {
   "cell_type": "markdown",
   "id": "bb3c62fc-33fd-4576-abc2-6eeeafd5994c",
   "metadata": {},
   "source": [
    "Let $C_{2}=\\mathbf{1}(\\mathbf{V}-\\operatorname{diag}(\\mathbf{V}))^{2} \\mathbf{1}^{\\prime}$, then\n",
    "$$\n",
    "\\lambda_{2}=\\lambda_{1}+\\frac{\\sqrt{\\frac{n}{n-1} C_{2}}}{V_{x}}=\\frac{V_{x}-\\operatorname{tr}\\left(\\mathbf{V}_{x}\\right)+\\sqrt{\\frac{n}{n-1} C_{2}}}{V_{x}} \n",
    "$$"
   ]
  },
  {
   "cell_type": "code",
   "execution_count": 6,
   "id": "1f99f57a",
   "metadata": {},
   "outputs": [
    {
     "name": "stdout",
     "output_type": "stream",
     "text": [
      "16.320000000000004\n"
     ]
    }
   ],
   "source": [
    "n=V.shape[0]\n",
    "C2=((V - np.eye(n)*np.diag(V))**2).sum().sum()\n",
    "print(C2)"
   ]
  },
  {
   "cell_type": "code",
   "execution_count": 7,
   "id": "f8a3e6f3",
   "metadata": {},
   "outputs": [
    {
     "name": "stdout",
     "output_type": "stream",
     "text": [
      "0.8537487885405894\n"
     ]
    }
   ],
   "source": [
    "lambda2=lambda1+(n/(n-1)*C2)**0.5/Vx\n",
    "print(lambda2)"
   ]
  },
  {
   "cell_type": "markdown",
   "id": "2ec9a8a4-300f-438b-b3a8-12f88ec09125",
   "metadata": {},
   "source": [
    "$$\\lambda_{3}=\\lambda_{1}+\\frac{\\frac{V_{X}-\\operatorname{tr}\\left(\\mathbf{V}_{X}\\right)}{n(n-1)}}{V_{X}}=\\frac{n \\lambda_{1}}{n-1}=\\frac{n}{n-1}\\left(1-\\frac{\\operatorname{tr}(\\mathbf{V})_{x}}{V_{x}}\\right)=\\frac{n}{n-1} \\frac{V_{x}-\\operatorname{tr}\\left(\\mathbf{V}_{x}\\right)}{V_{x}}=\\alpha$$"
   ]
  },
  {
   "cell_type": "code",
   "execution_count": 8,
   "id": "0911f67a",
   "metadata": {},
   "outputs": [
    {
     "name": "stdout",
     "output_type": "stream",
     "text": [
      "0.8448393711551606\n"
     ]
    }
   ],
   "source": [
    "alpha = n/(n-1)*(Vx-np.diag(V).sum())/Vx\n",
    "print(alpha)"
   ]
  },
  {
   "cell_type": "code",
   "execution_count": 9,
   "id": "b6564e03-6027-4ec2-896d-c26fe5e349d7",
   "metadata": {},
   "outputs": [
    {
     "name": "stdout",
     "output_type": "stream",
     "text": [
      "0.7744360902255639\n",
      "0.8537487885405894\n",
      "0.8448393711551606\n"
     ]
    }
   ],
   "source": [
    "reliability_report = reliability_analysis(correlations_matrix=V)\n",
    "reliability_report.fit()\n",
    "print(reliability_report.lambda1)\n",
    "print(reliability_report.lambda2)\n",
    "print(reliability_report.alpha_cronbach)"
   ]
  },
  {
   "cell_type": "markdown",
   "id": "068baf51-9d0f-4231-9af9-d13f04723221",
   "metadata": {},
   "source": [
    "# Omegas reliability\n",
    "\n",
    "Omegas are based on a decomposition of the variance of a test score, $V_x$ into four parts: that due to a general factor, $\\vec{g}$, that due to a set of group factors, $\\vec{f}$, (factors common to some but not all of the items), specific factors, $\\vec{s}$ unique to each item, and $\\vec{e}$, random error. (Because specific variance can not be distinguished from random error unless the test is given at least twice, some combine these both into error).\n",
    "\n",
    "$$\n",
    "\\begin{equation} \\label{eq:1}\n",
    "x = cg + Af + Ds + e\n",
    "\\end{equation}\n",
    "$$\n",
    "\n",
    "then the communality of item $j$, based upon general as well as group factors, $h_j^2 = c_j^2 + \\sum(f_{ij}^2)$ and the unique variance for the item $u_j^2 = σ_j^2 (1-h_j^2)$ may be used to estimate the test reliability. That is, if $h_j^2$ is the communality of item $j$, based upon general as well as group factors, then for standardized items, $e_j^2 = 1 - h_j^2$ and\n",
    "\n",
    "$$ω_t =  \\frac{1 cc' 1 + 1 AA' 1'}{V_x}$$\n",
    "\n",
    "\n",
    "$ω_t$ is based upon the sum of squared loadings on all the factors.\n",
    "$ω_h$ is based upon the sum of the squared loadings on the general factor.\n",
    "\n",
    "$$ω_h =  \\frac{1 cc' 1'}{Vx}$$\n",
    "\n",
    "Another estimate reported is the omega for an infinite length test with a structure similar to the observed test (omega hierarchical asymptotic). This is found by\n",
    "\n",
    "$$ω_{limit} = \\frac{1 cc' 1'}{1 cc' 1' + 1 AA' 1'}$$\n",
    "\n",
    "\n",
    "The input to omega may be a correlation matrix or a raw data matrix, or a factor pattern matrix with the factor intercorrelations (Phi) matrix."
   ]
  },
  {
   "cell_type": "markdown",
   "id": "9e6e2c79-06b6-47f6-9439-fa4ae8d307fe",
   "metadata": {},
   "source": [
    "## Results in R using Psych\n",
    "There is an R notebook with the full example, in the same folder that this notebook, with this result:\n",
    "```bash\n",
    "Omega \n",
    "Call: omega(m = correlation_matrix)\n",
    "Alpha:                 0.84 \n",
    "G.6:                   0.88 \n",
    "Omega Hierarchical:    0.54 \n",
    "Omega H asymptotic:    0.6 \n",
    "Omega Total            0.9 \n",
    "````\n"
   ]
  },
  {
   "cell_type": "markdown",
   "id": "70e85015-2591-4a80-912d-4703b727f738",
   "metadata": {},
   "source": [
    "## Results using 'reliabiliPy'"
   ]
  },
  {
   "cell_type": "code",
   "execution_count": 10,
   "id": "c792a72c",
   "metadata": {},
   "outputs": [],
   "source": [
    "reliability_report = reliability_analysis(correlations_matrix=V)\n",
    "reliability_report.fit()"
   ]
  },
  {
   "cell_type": "code",
   "execution_count": 11,
   "id": "be909598",
   "metadata": {
    "lines_to_next_cell": 2
   },
   "outputs": [
    {
     "name": "stdout",
     "output_type": "stream",
     "text": [
      "0.9022556800089196\n",
      "0.5413535677830178\n",
      "0.6000001770869052\n"
     ]
    }
   ],
   "source": [
    "print(reliability_report.omega_total)\n",
    "print(reliability_report.omega_hierarchical)\n",
    "print(reliability_report.omega_hierarchical_asymptotic)"
   ]
  },
  {
   "cell_type": "markdown",
   "id": "9f4807b0-04d1-4f40-8a24-30b0ab91a2f6",
   "metadata": {},
   "source": [
    "## Further R output\n",
    "```bash\n",
    "    g        F1   F2   F3     h2      u2      p2\n",
    "v0\t0.45\t0.55\t\t\t0.5\t0.5\t0.40\n",
    "v1\t0.45\t0.55\t\t\t0.5\t0.5\t0.40\n",
    "v2\t0.45\t0.55\t\t\t0.5\t0.5\t0.40\n",
    "v3\t0.45\t0.55\t\t\t0.5\t0.5\t0.40\n",
    "v4\t0.45\t0.55\t\t\t0.5\t0.5\t0.40\n",
    "v5\t0.45\t0.55\t\t\t0.5\t0.5\t0.40\n",
    "v6\t0.45\t\t 0.63\t   0.6\t0.4\t0.33\n",
    "v7\t0.45\t\t 0.63\t   0.6\t0.4\t0.33\n",
    "v8\t0.45\t\t 0.63\t   0.6\t0.4\t0.33\n",
    "v9\t0.45\t\t 0.63\t   0.6\t0.4\t0.33\n",
    "```\n",
    "\n",
    "With eigenvalues of:\n",
    "```bash\n",
    "  g F1* F2* F3* \n",
    "2.4 1.8 1.6 1.0 \n",
    "```"
   ]
  },
  {
   "cell_type": "code",
   "execution_count": 12,
   "id": "f61ea699-b01b-45e8-b06e-a3a88a0fe74a",
   "metadata": {},
   "outputs": [
    {
     "data": {
      "text/plain": [
       "0.45"
      ]
     },
     "execution_count": 12,
     "metadata": {},
     "output_type": "execute_result"
    }
   ],
   "source": [
    "reliability_report.report_loadings['g'][0]"
   ]
  },
  {
   "cell_type": "code",
   "execution_count": 13,
   "id": "7c77a669-a3c5-4a70-9e1d-76e7888bc801",
   "metadata": {},
   "outputs": [
    {
     "data": {
      "text/html": [
       "<div>\n",
       "<style scoped>\n",
       "    .dataframe tbody tr th:only-of-type {\n",
       "        vertical-align: middle;\n",
       "    }\n",
       "\n",
       "    .dataframe tbody tr th {\n",
       "        vertical-align: top;\n",
       "    }\n",
       "\n",
       "    .dataframe thead th {\n",
       "        text-align: right;\n",
       "    }\n",
       "</style>\n",
       "<table border=\"1\" class=\"dataframe\">\n",
       "  <thead>\n",
       "    <tr style=\"text-align: right;\">\n",
       "      <th></th>\n",
       "      <th>g</th>\n",
       "      <th>F0</th>\n",
       "      <th>F1</th>\n",
       "      <th>F2</th>\n",
       "    </tr>\n",
       "  </thead>\n",
       "  <tbody>\n",
       "    <tr>\n",
       "      <th>eigenvalues</th>\n",
       "      <td>2.400001</td>\n",
       "      <td>1.800007</td>\n",
       "      <td>1.599981</td>\n",
       "      <td>1.000007</td>\n",
       "    </tr>\n",
       "  </tbody>\n",
       "</table>\n",
       "</div>"
      ],
      "text/plain": [
       "                    g        F0        F1        F2\n",
       "eigenvalues  2.400001  1.800007  1.599981  1.000007"
      ]
     },
     "execution_count": 13,
     "metadata": {},
     "output_type": "execute_result"
    }
   ],
   "source": [
    "reliability_report.report_eigenvalues"
   ]
  },
  {
   "cell_type": "markdown",
   "id": "52b59c21-338a-4b15-8ad5-4a64aedcfac7",
   "metadata": {},
   "source": [
    "# Estimation of Omegas reliabilities\n",
    "\n",
    "This section is in case you want to go deeper. This will allow you to understand the calculation and to be able to modify the package.\n",
    "\n",
    "But how can we estimate that?. Using `Schmid-Leiman` solution. For an explanation on that   Wolff and Preising (2005). There the authors try to do the same that in this work but for SPSS and SAS. \n",
    "\n",
    "\"matrix $\\mathbf{F}_{1}$ (i.e., rotated loadings), a first-order factor correlation matrix termed $\\mathbf{R}_{1}$, and unique variances $\\mathbf{U}_{1}^{2}$ of variables:\n",
    "$$\n",
    "\\mathbf{R}_{v}=\\mathbf{F}_{1} \\mathbf{R}_{1} \\mathbf{F}_{1}^{\\prime}+\\mathbf{U}_{1}^{2} \n",
    "$$\n",
    "\n",
    "\n",
    "\n",
    "Matrix $\\mathbf{F}_{1}$ is of the order $v \\times f_{1}$, where $f_{1}$ is the number of first-order factors. $\\mathbf{R}_{1}$ is of the order $f_{1} \\times f_{1} . \\mathbf{U}_{1}^{2}$ is a matrix of the order $v \\times v$ and consists of measurement error and specific components of variables.\n",
    "\n",
    "Second-order factors can be extracted from the factor correlation matrix $\\mathbf{R}_{1}$, yielding a matrix of second-order factor loadings $\\mathbf{F}_{2}$, a second-order factor correlation matrix $\\mathbf{R}_{2}$, and the unique variance of this level, $\\mathbf{U}_{2}^{2}$ :\n",
    "\n",
    "\n",
    "\n",
    "$$\n",
    "\\mathbf{R}_{1}=\\mathbf{F}_{2} \\mathbf{R}_{2} \\mathbf{F}_{2}^{\\prime}+\\mathbf{U}_{2}^{2}\n",
    "$$\n",
    "\n",
    "\n",
    "$\\mathbf{F}_{2}$ is of the order $f_{1} \\times f_{2}$, where $f_{2}$ is the number of second-order factors. $\\mathbf{R}_{2}$ is of the order $f_{2} \\times f_{2} . \\mathbf{U}_{2}^{2}$ is a matrix of the order $f_{1} \\times f_{1}$.\n",
    "\n",
    "These two analyses comprise a minimal higher order FA consisting of two levels. $\\mathbf{F}_{1}$ from Equation 1 provides first-order factor loadings (e.g., paths from $\\mathrm{F}_{1}$ to variables in Figure 1A), and $\\mathbf{F}_{2}$ yields second-order factor loadings (e.g., the path from Factor 1 to $\\mathrm{F}_{1}$ in Figure $1 \\mathrm{~A}$ ). If second-order factors are uncorrelated, matrix $\\mathbf{R}_{2}$ is an identity matrix and can be ignored. If second-order factors are correlated, analyses may continue to extract third-order factors.\n",
    "\n",
    "To obtain the SLS, two further calculations are necessary. In a first step, direct effects of higher order factors on variables are determined by multiplying all factor-loading matrices from first to highest order. In the present case, the direct loadings of second-order factors on variables, termed $\\mathbf{F}_{2}^{S L S}$, are obtained by multiplying $\\mathbf{F}_{1} \\times \\mathbf{F}_{2}$\n",
    "$$\n",
    "\\mathbf{F}_{2}^{\\mathrm{SLS}}=\\mathbf{F}_{1} * \\mathbf{F}_{2},\n",
    "$$\n",
    "where $\\mathbf{F}_{2}^{\\text {SLS }}$ is of the order $v \\times f_{2}$. To obtain residualized first-order factor loadings $\\mathbf{F}_{1}^{\\mathrm{SLS}}$, factor loadings $\\mathbf{F}_{1}$ are multiplied by the uniqueness $\\mathbf{U}_{2}$ of higher order factors:\n",
    "$$\n",
    "\\mathbf{F}_{1}^{\\mathrm{SLS}}=\\mathbf{F}_{1} * \\mathbf{U}_{2},\n",
    "$$\n",
    "where $\\mathbf{F}_{1}^{\\mathrm{SLS}}$ is of the order $v \\times f_{1}$. The uniqueness $\\mathbf{U}_{2}$ is equivalent to the square root of the variances of $\\mathbf{R}_{1}$ not explained by higher order factors. It is obtained by subtracting the explained variance of a factor from 1:\n",
    "$$\n",
    "\\mathbf{U}_{2}=\\left[\\mathbf{I}-\\operatorname{diag}\\left(\\mathbf{F}_{2} \\mathbf{R}_{2} \\mathbf{F}_{2}^{\\prime}\\right)\\right]^{0.5},\n",
    "$$\n",
    "where $\\mathbf{I}$ is an identity matrix and diag indicates that only\""
   ]
  },
  {
   "cell_type": "markdown",
   "id": "d06a16be-6519-4a61-b0bc-efcbf0daf544",
   "metadata": {},
   "source": [
    "# Tranlations in our case and to Python\n",
    "$$\n",
    "\\mathbf{F}_{2}^{\\mathrm{SLS}}=\\mathbf{F}_{1} * \\mathbf{F}_{2},\n",
    "$$\n",
    "implementation in `python`:"
   ]
  },
  {
   "cell_type": "code",
   "execution_count": 14,
   "id": "5f2526e0-466d-4096-b75b-aae9ab274cdf",
   "metadata": {},
   "outputs": [
    {
     "data": {
      "text/plain": [
       "array([[0.44721233],\n",
       "       [0.44721233],\n",
       "       [0.44721233],\n",
       "       [0.44721233],\n",
       "       [0.44721233],\n",
       "       [0.44721233],\n",
       "       [0.4472171 ],\n",
       "       [0.4472171 ],\n",
       "       [0.4472171 ],\n",
       "       [0.4472171 ],\n",
       "       [0.44721084],\n",
       "       [0.44721084]])"
      ]
     },
     "execution_count": 14,
     "metadata": {},
     "output_type": "execute_result"
    }
   ],
   "source": [
    "general_component = np.dot(reliability_report.fa_f.loadings_,\n",
    "                           reliability_report.fa_g.loadings_)\n",
    "general_component=np.abs(general_component)\n",
    "general_component"
   ]
  },
  {
   "cell_type": "markdown",
   "id": "e78480ac-1cf4-470b-89b6-b87ef66297ca",
   "metadata": {},
   "source": [
    "Eigenvalue g"
   ]
  },
  {
   "cell_type": "code",
   "execution_count": 15,
   "id": "a9977a7e-c269-4f6a-a217-e0312be1953f",
   "metadata": {},
   "outputs": [
    {
     "data": {
      "text/plain": [
       "array([[2.40000082]])"
      ]
     },
     "execution_count": 15,
     "metadata": {},
     "output_type": "execute_result"
    }
   ],
   "source": [
    "np.dot(general_component.T,general_component)"
   ]
  },
  {
   "cell_type": "markdown",
   "id": "05f535cc-10fd-41dc-993e-710d62ab780c",
   "metadata": {},
   "source": [
    "# $u^2$ in our example:"
   ]
  },
  {
   "cell_type": "code",
   "execution_count": 16,
   "id": "a30714f1-883b-4c34-91b7-2124929a6476",
   "metadata": {},
   "outputs": [
    {
     "data": {
      "text/plain": [
       "array([0.50000014, 0.50000014, 0.50000014, 0.50000014, 0.50000014,\n",
       "       0.50000014, 0.39999742, 0.39999742, 0.39999742, 0.39999742,\n",
       "       0.30000366, 0.30000366])"
      ]
     },
     "execution_count": 16,
     "metadata": {},
     "output_type": "execute_result"
    }
   ],
   "source": [
    "reliability_report.fa_f.get_uniquenesses()"
   ]
  },
  {
   "cell_type": "markdown",
   "id": "952b07d8-9e76-4119-bed7-29cf5ed32cfc",
   "metadata": {},
   "source": [
    "# $h^2$ in our example:"
   ]
  },
  {
   "cell_type": "code",
   "execution_count": 17,
   "id": "7aedf950-8bee-4b3b-bfac-5329295c71e3",
   "metadata": {},
   "outputs": [
    {
     "data": {
      "text/plain": [
       "array([0.49999986, 0.49999986, 0.49999986, 0.49999986, 0.49999986,\n",
       "       0.49999986, 0.60000258, 0.60000258, 0.60000258, 0.60000258,\n",
       "       0.69999634, 0.69999634])"
      ]
     },
     "execution_count": 17,
     "metadata": {},
     "output_type": "execute_result"
    }
   ],
   "source": [
    "reliability_report.fa_f.get_communalities()"
   ]
  },
  {
   "cell_type": "markdown",
   "id": "42c8b553-bdde-460c-8bde-f567db28fdaa",
   "metadata": {},
   "source": [
    "To update the group factors\n",
    "\n",
    "$$\n",
    "\\mathbf{F}_{1}^{\\mathrm{SLS}}=\\mathbf{F}_{1} * \\mathbf{U}_{2},\n",
    "$$"
   ]
  },
  {
   "cell_type": "code",
   "execution_count": 18,
   "id": "a57c5fc2-8f84-44cb-aa88-4a0b484b6efa",
   "metadata": {},
   "outputs": [
    {
     "data": {
      "text/plain": [
       "array([[0., 0., 0.],\n",
       "       [0., 0., 0.],\n",
       "       [0., 0., 0.],\n",
       "       [0., 0., 0.],\n",
       "       [0., 0., 0.],\n",
       "       [0., 0., 0.],\n",
       "       [0., 0., 0.],\n",
       "       [0., 0., 0.],\n",
       "       [0., 0., 0.],\n",
       "       [0., 0., 0.],\n",
       "       [0., 0., 0.],\n",
       "       [0., 0., 0.]])"
      ]
     },
     "execution_count": 18,
     "metadata": {},
     "output_type": "execute_result"
    }
   ],
   "source": [
    "f_loadings_final = np.zeros(reliability_report.fa_f.loadings_.shape)\n",
    "f_loadings_final\n"
   ]
  },
  {
   "cell_type": "code",
   "execution_count": 19,
   "id": "9a0e31c0-89df-44a3-a2ad-fa5f7757ae2e",
   "metadata": {},
   "outputs": [
    {
     "data": {
      "text/plain": [
       "array([[-0.63245363],\n",
       "       [-0.5773573 ],\n",
       "       [-0.53451571]])"
      ]
     },
     "execution_count": 19,
     "metadata": {},
     "output_type": "execute_result"
    }
   ],
   "source": [
    "reliability_report.fa_g.loadings_"
   ]
  },
  {
   "cell_type": "code",
   "execution_count": 20,
   "id": "c01d622b-8be6-4600-a6d5-c7542baa313d",
   "metadata": {},
   "outputs": [
    {
     "data": {
      "text/plain": [
       "array([0.50000014, 0.50000014, 0.50000014, 0.50000014, 0.50000014,\n",
       "       0.50000014, 0.39999742, 0.39999742, 0.39999742, 0.39999742,\n",
       "       0.30000366, 0.30000366])"
      ]
     },
     "execution_count": 20,
     "metadata": {},
     "output_type": "execute_result"
    }
   ],
   "source": [
    "reliability_report.fa_f.get_uniquenesses()"
   ]
  },
  {
   "cell_type": "code",
   "execution_count": 21,
   "id": "87a6b711-369c-4fda-90c8-6dea92eed067",
   "metadata": {},
   "outputs": [],
   "source": [
    "for i in range(0,reliability_report.fa_g.get_uniquenesses().__len__()):\n",
    "    f_loadings_final[:,i] = reliability_report.fa_f.loadings_[:,i]*reliability_report.fa_g.get_uniquenesses()[i]**0.5\n",
    "\n",
    "f_loadings_final = np.abs(f_loadings_final)   "
   ]
  },
  {
   "cell_type": "markdown",
   "id": "8bacb8d7-8e15-42f7-a8b5-6806e8eb52f8",
   "metadata": {},
   "source": [
    "The eigenvectors in our example:"
   ]
  },
  {
   "cell_type": "code",
   "execution_count": 22,
   "id": "02a2d140-41b1-4ef5-9430-4cd6c59263a2",
   "metadata": {},
   "outputs": [
    {
     "data": {
      "text/plain": [
       "array([[0.548, 0.   , 0.   ],\n",
       "       [0.548, 0.   , 0.   ],\n",
       "       [0.548, 0.   , 0.   ],\n",
       "       [0.548, 0.   , 0.   ],\n",
       "       [0.548, 0.   , 0.   ],\n",
       "       [0.548, 0.   , 0.   ],\n",
       "       [0.   , 0.632, 0.   ],\n",
       "       [0.   , 0.632, 0.   ],\n",
       "       [0.   , 0.632, 0.   ],\n",
       "       [0.   , 0.632, 0.   ],\n",
       "       [0.   , 0.   , 0.707],\n",
       "       [0.   , 0.   , 0.707]])"
      ]
     },
     "execution_count": 22,
     "metadata": {},
     "output_type": "execute_result"
    }
   ],
   "source": [
    "np.abs(f_loadings_final).round(3)"
   ]
  },
  {
   "cell_type": "markdown",
   "id": "d60476ee-fecc-429a-be73-ba528806f223",
   "metadata": {},
   "source": [
    "The eigenvalues:"
   ]
  },
  {
   "cell_type": "code",
   "execution_count": 23,
   "id": "804ab16b-c6cb-45c6-82f9-8843620a2344",
   "metadata": {},
   "outputs": [
    {
     "data": {
      "text/plain": [
       "array([1.80001644, 1.60000108, 1.00001845])"
      ]
     },
     "execution_count": 23,
     "metadata": {},
     "output_type": "execute_result"
    }
   ],
   "source": [
    "np.dot(f_loadings_final.T,f_loadings_final).sum(axis=1)"
   ]
  },
  {
   "cell_type": "code",
   "execution_count": 24,
   "id": "23798bb0-f0e7-498d-a10a-17b0a6aa279c",
   "metadata": {},
   "outputs": [
    {
     "data": {
      "text/plain": [
       "'save code '"
      ]
     },
     "execution_count": 24,
     "metadata": {},
     "output_type": "execute_result"
    }
   ],
   "source": [
    "\"\"\"save code \"\"\""
   ]
  },
  {
   "cell_type": "code",
   "execution_count": 25,
   "id": "33aae7e7-ca8e-4990-9ea5-45845043eeb6",
   "metadata": {},
   "outputs": [
    {
     "name": "stdout",
     "output_type": "stream",
     "text": [
      "jupytext --to py revelle_ch7_example.ipynb\n",
      "[jupytext] Reading revelle_ch7_example.ipynb in format ipynb\n",
      "[jupytext] Updating the timestamp of revelle_ch7_example.py\n"
     ]
    },
    {
     "data": {
      "text/plain": [
       "0"
      ]
     },
     "execution_count": 25,
     "metadata": {},
     "output_type": "execute_result"
    }
   ],
   "source": [
    "import os\n",
    "order = f'jupytext --to py {name_notebook}.ipynb'\n",
    "print(order)\n",
    "os.system(order)"
   ]
  }
 ],
 "metadata": {
  "jupytext": {
   "cell_metadata_filter": "-all",
   "main_language": "python",
   "notebook_metadata_filter": "-all"
  },
  "kernelspec": {
   "display_name": "py38",
   "language": "python",
   "name": "py38"
  },
  "language_info": {
   "codemirror_mode": {
    "name": "ipython",
    "version": 3
   },
   "file_extension": ".py",
   "mimetype": "text/x-python",
   "name": "python",
   "nbconvert_exporter": "python",
   "pygments_lexer": "ipython3",
   "version": "3.8.12"
  }
 },
 "nbformat": 4,
 "nbformat_minor": 5
}
